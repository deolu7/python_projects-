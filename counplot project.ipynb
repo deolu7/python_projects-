{
 "cells": [
  {
   "cell_type": "code",
   "execution_count": 1,
   "id": "ebd81d2d",
   "metadata": {},
   "outputs": [],
   "source": [
    "#Importing the necessary libraries\n",
    "import pandas as pd\n",
    "from matplotlib import pyplot as plt\n",
    "import seaborn as sns"
   ]
  },
  {
   "cell_type": "markdown",
   "id": "a2eb50a8-d7e6-4d37-b578-50d5f719dcb8",
   "metadata": {},
   "source": [
    "#Loading the dataset"
   ]
  },
  {
   "cell_type": "code",
   "execution_count": 3,
   "id": "d23b0b2d",
   "metadata": {},
   "outputs": [
    {
     "data": {
      "text/html": [
       "<div>\n",
       "<style scoped>\n",
       "    .dataframe tbody tr th:only-of-type {\n",
       "        vertical-align: middle;\n",
       "    }\n",
       "\n",
       "    .dataframe tbody tr th {\n",
       "        vertical-align: top;\n",
       "    }\n",
       "\n",
       "    .dataframe thead th {\n",
       "        text-align: right;\n",
       "    }\n",
       "</style>\n",
       "<table border=\"1\" class=\"dataframe\">\n",
       "  <thead>\n",
       "    <tr style=\"text-align: right;\">\n",
       "      <th></th>\n",
       "      <th>Timestamp</th>\n",
       "      <th>Choose your gender</th>\n",
       "      <th>Age</th>\n",
       "      <th>What is your course?</th>\n",
       "      <th>Your current year of Study</th>\n",
       "      <th>What is your CGPA?</th>\n",
       "      <th>Marital status</th>\n",
       "      <th>Do you have Depression?</th>\n",
       "      <th>Do you have Anxiety?</th>\n",
       "      <th>Do you have Panic attack?</th>\n",
       "      <th>Did you seek any specialist for a treatment?</th>\n",
       "    </tr>\n",
       "  </thead>\n",
       "  <tbody>\n",
       "    <tr>\n",
       "      <th>0</th>\n",
       "      <td>8/7/2020 12:02</td>\n",
       "      <td>Female</td>\n",
       "      <td>18.0</td>\n",
       "      <td>Engineering</td>\n",
       "      <td>year 1</td>\n",
       "      <td>3.00 - 3.49</td>\n",
       "      <td>No</td>\n",
       "      <td>Yes</td>\n",
       "      <td>No</td>\n",
       "      <td>Yes</td>\n",
       "      <td>No</td>\n",
       "    </tr>\n",
       "    <tr>\n",
       "      <th>1</th>\n",
       "      <td>8/7/2020 12:04</td>\n",
       "      <td>Male</td>\n",
       "      <td>21.0</td>\n",
       "      <td>Islamic education</td>\n",
       "      <td>year 2</td>\n",
       "      <td>3.00 - 3.49</td>\n",
       "      <td>No</td>\n",
       "      <td>No</td>\n",
       "      <td>Yes</td>\n",
       "      <td>No</td>\n",
       "      <td>No</td>\n",
       "    </tr>\n",
       "    <tr>\n",
       "      <th>2</th>\n",
       "      <td>8/7/2020 12:05</td>\n",
       "      <td>Male</td>\n",
       "      <td>19.0</td>\n",
       "      <td>BIT</td>\n",
       "      <td>Year 1</td>\n",
       "      <td>3.00 - 3.49</td>\n",
       "      <td>No</td>\n",
       "      <td>Yes</td>\n",
       "      <td>Yes</td>\n",
       "      <td>Yes</td>\n",
       "      <td>No</td>\n",
       "    </tr>\n",
       "    <tr>\n",
       "      <th>3</th>\n",
       "      <td>8/7/2020 12:06</td>\n",
       "      <td>Female</td>\n",
       "      <td>22.0</td>\n",
       "      <td>Laws</td>\n",
       "      <td>year 3</td>\n",
       "      <td>3.00 - 3.49</td>\n",
       "      <td>Yes</td>\n",
       "      <td>Yes</td>\n",
       "      <td>No</td>\n",
       "      <td>No</td>\n",
       "      <td>No</td>\n",
       "    </tr>\n",
       "    <tr>\n",
       "      <th>4</th>\n",
       "      <td>8/7/2020 12:13</td>\n",
       "      <td>Male</td>\n",
       "      <td>23.0</td>\n",
       "      <td>Mathemathics</td>\n",
       "      <td>year 4</td>\n",
       "      <td>3.00 - 3.49</td>\n",
       "      <td>No</td>\n",
       "      <td>No</td>\n",
       "      <td>No</td>\n",
       "      <td>No</td>\n",
       "      <td>No</td>\n",
       "    </tr>\n",
       "  </tbody>\n",
       "</table>\n",
       "</div>"
      ],
      "text/plain": [
       "        Timestamp Choose your gender   Age What is your course?  \\\n",
       "0  8/7/2020 12:02             Female  18.0          Engineering   \n",
       "1  8/7/2020 12:04               Male  21.0    Islamic education   \n",
       "2  8/7/2020 12:05               Male  19.0                  BIT   \n",
       "3  8/7/2020 12:06             Female  22.0                 Laws   \n",
       "4  8/7/2020 12:13               Male  23.0         Mathemathics   \n",
       "\n",
       "  Your current year of Study What is your CGPA? Marital status  \\\n",
       "0                     year 1        3.00 - 3.49             No   \n",
       "1                     year 2        3.00 - 3.49             No   \n",
       "2                     Year 1        3.00 - 3.49             No   \n",
       "3                     year 3        3.00 - 3.49            Yes   \n",
       "4                     year 4        3.00 - 3.49             No   \n",
       "\n",
       "  Do you have Depression? Do you have Anxiety? Do you have Panic attack?  \\\n",
       "0                     Yes                   No                       Yes   \n",
       "1                      No                  Yes                        No   \n",
       "2                     Yes                  Yes                       Yes   \n",
       "3                     Yes                   No                        No   \n",
       "4                      No                   No                        No   \n",
       "\n",
       "  Did you seek any specialist for a treatment?  \n",
       "0                                           No  \n",
       "1                                           No  \n",
       "2                                           No  \n",
       "3                                           No  \n",
       "4                                           No  "
      ]
     },
     "execution_count": 3,
     "metadata": {},
     "output_type": "execute_result"
    }
   ],
   "source": [
    "df = pd.read_csv('Student Mental health.csv')\n",
    "df.head()"
   ]
  },
  {
   "cell_type": "code",
   "execution_count": 4,
   "id": "1376fe86",
   "metadata": {
    "scrolled": true
   },
   "outputs": [
    {
     "name": "stdout",
     "output_type": "stream",
     "text": [
      "<class 'pandas.core.frame.DataFrame'>\n",
      "RangeIndex: 101 entries, 0 to 100\n",
      "Data columns (total 11 columns):\n",
      " #   Column                                        Non-Null Count  Dtype  \n",
      "---  ------                                        --------------  -----  \n",
      " 0   Timestamp                                     101 non-null    object \n",
      " 1   Choose your gender                            101 non-null    object \n",
      " 2   Age                                           100 non-null    float64\n",
      " 3   What is your course?                          101 non-null    object \n",
      " 4   Your current year of Study                    101 non-null    object \n",
      " 5   What is your CGPA?                            101 non-null    object \n",
      " 6   Marital status                                101 non-null    object \n",
      " 7   Do you have Depression?                       101 non-null    object \n",
      " 8   Do you have Anxiety?                          101 non-null    object \n",
      " 9   Do you have Panic attack?                     101 non-null    object \n",
      " 10  Did you seek any specialist for a treatment?  101 non-null    object \n",
      "dtypes: float64(1), object(10)\n",
      "memory usage: 8.8+ KB\n"
     ]
    }
   ],
   "source": [
    "#Getting to know more about the data\n",
    "df.info()"
   ]
  },
  {
   "cell_type": "markdown",
   "id": "10b55c5f",
   "metadata": {},
   "source": [
    "***For the questions that we are trying to solve we aren't performing any tidy actions. The data is necessarily being suitable for the problem statement that we are trying to solve:***\n",
    "\n",
    "1. How many students are suffering with mental health conditions?\n",
    "2. Out of all the students who are facing mental health conditions how many of them are seeking specialist treatment?\n",
    "3. Is it male or female who are facing these mental health conditions?"
   ]
  },
  {
   "cell_type": "code",
   "execution_count": 5,
   "id": "a60a7cca",
   "metadata": {},
   "outputs": [],
   "source": [
    "# Subsetting the columns that we want to plot\n",
    "columns_to_plot = df.columns[-4:-1]  \n",
    "\n",
    "# Sort order\n",
    "category_order = ['Yes', 'No']"
   ]
  },
  {
   "cell_type": "markdown",
   "id": "324e56b4",
   "metadata": {},
   "source": [
    "### ***Checking the Count of Students facing each of the following mental health issues:***\n",
    "### 1.Depression\n",
    "### 2.Anxiety\n",
    "### 3.Panic Attack"
   ]
  },
  {
   "cell_type": "code",
   "execution_count": 6,
   "id": "63978a58",
   "metadata": {
    "scrolled": true
   },
   "outputs": [
    {
     "name": "stdout",
     "output_type": "stream",
     "text": [
      "Yes    35\n",
      "No     66\n",
      "Name: Do you have Depression?, dtype: int64\n",
      "\n",
      "Yes    34\n",
      "No     67\n",
      "Name: Do you have Anxiety?, dtype: int64\n",
      "\n",
      "Yes    33\n",
      "No     68\n",
      "Name: Do you have Panic attack?, dtype: int64\n",
      "\n"
     ]
    }
   ],
   "source": [
    "for column in columns_to_plot:\n",
    "    counts = df[column].value_counts()\n",
    "    counts = counts.reindex(category_order, fill_value=0)\n",
    "    print(counts)\n",
    "    print()"
   ]
  },
  {
   "cell_type": "markdown",
   "id": "9ca67bdc",
   "metadata": {},
   "source": [
    "***By using the pandas value_counts() function we can see that the count of students facing Depression, Anxiety and Panic Attack are approximately on the same range.***"
   ]
  },
  {
   "cell_type": "markdown",
   "id": "bde7c673",
   "metadata": {},
   "source": [
    "### ***Checking whether the students are seeking specialist for treatment or not?***"
   ]
  },
  {
   "cell_type": "code",
   "execution_count": 11,
   "id": "f58f9b07",
   "metadata": {
    "scrolled": true
   },
   "outputs": [
    {
     "data": {
      "image/png": "[encoded data removed]",
      "text/plain": [
       "<Figure size 576x360 with 1 Axes>"
      ]
     },
     "metadata": {
      "needs_background": "light"
     },
     "output_type": "display_data"
    },
    {
     "data": {
      "image/png": "[encoded data removed]",
      "text/plain": [
       "<Figure size 576x360 with 1 Axes>"
      ]
     },
     "metadata": {
      "needs_background": "light"
     },
     "output_type": "display_data"
    },
    {
     "data": {
      "image/png": "[encoded data removed]",
      "text/plain": [
       "<Figure size 576x360 with 1 Axes>"
      ]
     },
     "metadata": {
      "needs_background": "light"
     },
     "output_type": "display_data"
    }
   ],
   "source": [
    "# Plot bar charts for the three columns\n",
    "for column in columns_to_plot:\n",
    "    plt.figure(figsize=(8, 5))\n",
    "    sns.countplot(x=df[column],order=category_order,hue=df['Did you seek any specialist for a treatment?'],\n",
    "                  hue_order=category_order)\n",
    "    plt.title(f'{column.capitalize()}', weight = 'bold')\n",
    "    plt.xlabel('')\n",
    "    plt.ylabel('Count of Students')\n",
    "    plt.show()"
   ]
  },
  {
   "cell_type": "markdown",
   "id": "2c79cf2d",
   "metadata": {},
   "source": [
    "***Again we can clearly see that the lables of Yes and No on the X Axis represent whether a student is encountering that specific mental health issue or not. Here we are trying to use the hue() parameter along with sns.countplot() to see if the students are seeking specialists for their treatment or not.***\n",
    "\n",
    "1. Students with Depression are seeking treatment more in count when compared to other conditions.\n",
    "2. Interestingly Students who are not having anxiety or panic attack are also seeking treatment from specialists, this might be for some other conditions, data is not supportive enough to conclude on this."
   ]
  },
  {
   "cell_type": "markdown",
   "id": "0ab0a7f0",
   "metadata": {},
   "source": [
    "### ***Checking if Male or Female are suffering more with Mental Health Issues***"
   ]
  },
  {
   "cell_type": "code",
   "execution_count": null,
   "id": "4170a86a",
   "metadata": {},
   "outputs": [],
   "source": [
    "df.groupby(['Choose your gender'])[]"
   ]
  },
  {
   "cell_type": "code",
   "execution_count": 12,
   "id": "689527d2",
   "metadata": {},
   "outputs": [
    {
     "data": {
      "image/png": "[encoded data removed]",
      "text/plain": [
       "<Figure size 576x360 with 1 Axes>"
      ]
     },
     "metadata": {
      "needs_background": "light"
     },
     "output_type": "display_data"
    },
    {
     "data": {
      "image/png": "[encoded data removed]",
      "text/plain": [
       "<Figure size 576x360 with 1 Axes>"
      ]
     },
     "metadata": {
      "needs_background": "light"
     },
     "output_type": "display_data"
    },
    {
     "data": {
      "image/png": "[encoded data removed]",
      "text/plain": [
       "<Figure size 576x360 with 1 Axes>"
      ]
     },
     "metadata": {
      "needs_background": "light"
     },
     "output_type": "display_data"
    }
   ],
   "source": [
    "# Defining the color palette\n",
    "color_palette = {'Male': 'skyblue', 'Female': 'salmon'}\n",
    "\n",
    "#Specifying the order\n",
    "gender_order = ['Male','Female']\n",
    "\n",
    "#Checking whether it is male or female\n",
    "for column in columns_to_plot:\n",
    "    plt.figure(figsize=(8, 5))\n",
    "    sns.countplot(x=df[column],order=category_order,hue=df['Choose your gender'],\n",
    "                  hue_order=gender_order, palette=color_palette)\n",
    "    plt.title(f'{column.capitalize()}',weight = 'bold')\n",
    "    plt.xlabel('')\n",
    "    plt.ylabel('Count of Students')\n",
    "    plt.show()"
   ]
  },
  {
   "cell_type": "markdown",
   "id": "36bb217e",
   "metadata": {},
   "source": [
    "Across all the three mental health issues we can clearly see that the female students are suffering more with the mental health conditions."
   ]
  }
 ],
 "metadata": {
  "kernelspec": {
   "display_name": "Python 3 (ipykernel)",
   "language": "python",
   "name": "python3"
  },
  "language_info": {
   "codemirror_mode": {
    "name": "ipython",
    "version": 3
   },
   "file_extension": ".py",
   "mimetype": "text/x-python",
   "name": "python",
   "nbconvert_exporter": "python",
   "pygments_lexer": "ipython3",
   "version": "3.12.4"
  }
 },
 "nbformat": 4,
 "nbformat_minor": 5
}
