{
 "cells": [
  {
   "cell_type": "code",
   "execution_count": 1,
   "id": "69bfc353-0ba0-4de1-bba5-ec7e710ec6c2",
   "metadata": {},
   "outputs": [],
   "source": [
    "import pandas as pd\n",
    "from matplotlib import pyplot as plt"
   ]
  },
  {
   "cell_type": "markdown",
   "id": "a8d1956b-f3dd-4793-b904-dc02c28fac11",
   "metadata": {},
   "source": [
    "As a product designer, I would like to learn how to create a heatmap. This would be useful for representing user activity data on a website. We can use it to determine which parts of the website are receiving more clicks than others. This will help me make better decisions, understand user interactions, and design more effective interfaces."
   ]
  },
  {
   "cell_type": "code",
   "execution_count": 2,
   "id": "2e233039-b17b-40d0-824d-097d2bb1d78f",
   "metadata": {},
   "outputs": [
    {
     "data": {
      "text/html": [
       "<div>\n",
       "<style scoped>\n",
       "    .dataframe tbody tr th:only-of-type {\n",
       "        vertical-align: middle;\n",
       "    }\n",
       "\n",
       "    .dataframe tbody tr th {\n",
       "        vertical-align: top;\n",
       "    }\n",
       "\n",
       "    .dataframe thead th {\n",
       "        text-align: right;\n",
       "    }\n",
       "</style>\n",
       "<table border=\"1\" class=\"dataframe\">\n",
       "  <thead>\n",
       "    <tr style=\"text-align: right;\">\n",
       "      <th></th>\n",
       "      <th>pew_religimp</th>\n",
       "      <th>pew_churatd</th>\n",
       "      <th>sex</th>\n",
       "      <th>educ</th>\n",
       "      <th>nonwhite</th>\n",
       "      <th>age</th>\n",
       "      <th>faminc_new</th>\n",
       "      <th>pid3</th>\n",
       "      <th>ideo5</th>\n",
       "      <th>QueerPhobia</th>\n",
       "      <th>...</th>\n",
       "      <th>InterGBiasParty</th>\n",
       "      <th>InterGBiasCand</th>\n",
       "      <th>InterGBiasSup</th>\n",
       "      <th>LibMediaUse</th>\n",
       "      <th>ConMediaUse</th>\n",
       "      <th>Real_Threat</th>\n",
       "      <th>Symb_Threat</th>\n",
       "      <th>Evaluation</th>\n",
       "      <th>teamweight</th>\n",
       "      <th>caseid</th>\n",
       "    </tr>\n",
       "  </thead>\n",
       "  <tbody>\n",
       "    <tr>\n",
       "      <th>0</th>\n",
       "      <td>2</td>\n",
       "      <td>6</td>\n",
       "      <td>2</td>\n",
       "      <td>2</td>\n",
       "      <td>1</td>\n",
       "      <td>56</td>\n",
       "      <td>6</td>\n",
       "      <td>1</td>\n",
       "      <td>1</td>\n",
       "      <td>1.000000</td>\n",
       "      <td>...</td>\n",
       "      <td>-99</td>\n",
       "      <td>-99</td>\n",
       "      <td>-96</td>\n",
       "      <td>2.666667</td>\n",
       "      <td>1.000000</td>\n",
       "      <td>5.00</td>\n",
       "      <td>4.857143</td>\n",
       "      <td>0</td>\n",
       "      <td>0.505028</td>\n",
       "      <td>1231308943</td>\n",
       "    </tr>\n",
       "    <tr>\n",
       "      <th>1</th>\n",
       "      <td>2</td>\n",
       "      <td>4</td>\n",
       "      <td>2</td>\n",
       "      <td>5</td>\n",
       "      <td>1</td>\n",
       "      <td>53</td>\n",
       "      <td>13</td>\n",
       "      <td>1</td>\n",
       "      <td>2</td>\n",
       "      <td>3.000000</td>\n",
       "      <td>...</td>\n",
       "      <td>-100</td>\n",
       "      <td>-100</td>\n",
       "      <td>-100</td>\n",
       "      <td>2.000000</td>\n",
       "      <td>2.000000</td>\n",
       "      <td>5.00</td>\n",
       "      <td>5.000000</td>\n",
       "      <td>0</td>\n",
       "      <td>0.852381</td>\n",
       "      <td>1232300315</td>\n",
       "    </tr>\n",
       "    <tr>\n",
       "      <th>2</th>\n",
       "      <td>1</td>\n",
       "      <td>2</td>\n",
       "      <td>1</td>\n",
       "      <td>2</td>\n",
       "      <td>1</td>\n",
       "      <td>69</td>\n",
       "      <td>10</td>\n",
       "      <td>2</td>\n",
       "      <td>5</td>\n",
       "      <td>4.333333</td>\n",
       "      <td>...</td>\n",
       "      <td>99</td>\n",
       "      <td>99</td>\n",
       "      <td>96</td>\n",
       "      <td>1.000000</td>\n",
       "      <td>1.000000</td>\n",
       "      <td>5.00</td>\n",
       "      <td>5.000000</td>\n",
       "      <td>2</td>\n",
       "      <td>1.320189</td>\n",
       "      <td>1232358697</td>\n",
       "    </tr>\n",
       "    <tr>\n",
       "      <th>3</th>\n",
       "      <td>2</td>\n",
       "      <td>3</td>\n",
       "      <td>1</td>\n",
       "      <td>6</td>\n",
       "      <td>1</td>\n",
       "      <td>76</td>\n",
       "      <td>97</td>\n",
       "      <td>1</td>\n",
       "      <td>3</td>\n",
       "      <td>1.000000</td>\n",
       "      <td>...</td>\n",
       "      <td>-86</td>\n",
       "      <td>-91</td>\n",
       "      <td>-89</td>\n",
       "      <td>4.666667</td>\n",
       "      <td>1.333333</td>\n",
       "      <td>4.25</td>\n",
       "      <td>4.428571</td>\n",
       "      <td>0</td>\n",
       "      <td>0.519198</td>\n",
       "      <td>1232540961</td>\n",
       "    </tr>\n",
       "    <tr>\n",
       "      <th>4</th>\n",
       "      <td>4</td>\n",
       "      <td>5</td>\n",
       "      <td>2</td>\n",
       "      <td>6</td>\n",
       "      <td>1</td>\n",
       "      <td>83</td>\n",
       "      <td>4</td>\n",
       "      <td>1</td>\n",
       "      <td>2</td>\n",
       "      <td>1.000000</td>\n",
       "      <td>...</td>\n",
       "      <td>-80</td>\n",
       "      <td>-88</td>\n",
       "      <td>-87</td>\n",
       "      <td>4.666667</td>\n",
       "      <td>3.666667</td>\n",
       "      <td>4.25</td>\n",
       "      <td>5.000000</td>\n",
       "      <td>0</td>\n",
       "      <td>1.154005</td>\n",
       "      <td>1232580601</td>\n",
       "    </tr>\n",
       "  </tbody>\n",
       "</table>\n",
       "<p>5 rows × 21 columns</p>\n",
       "</div>"
      ],
      "text/plain": [
       "   pew_religimp  pew_churatd  sex  educ  nonwhite  age  faminc_new  pid3  \\\n",
       "0             2            6    2     2         1   56           6     1   \n",
       "1             2            4    2     5         1   53          13     1   \n",
       "2             1            2    1     2         1   69          10     2   \n",
       "3             2            3    1     6         1   76          97     1   \n",
       "4             4            5    2     6         1   83           4     1   \n",
       "\n",
       "   ideo5  QueerPhobia  ...  InterGBiasParty  InterGBiasCand  InterGBiasSup  \\\n",
       "0      1     1.000000  ...              -99             -99            -96   \n",
       "1      2     3.000000  ...             -100            -100           -100   \n",
       "2      5     4.333333  ...               99              99             96   \n",
       "3      3     1.000000  ...              -86             -91            -89   \n",
       "4      2     1.000000  ...              -80             -88            -87   \n",
       "\n",
       "   LibMediaUse  ConMediaUse  Real_Threat  Symb_Threat  Evaluation  teamweight  \\\n",
       "0     2.666667     1.000000         5.00     4.857143           0    0.505028   \n",
       "1     2.000000     2.000000         5.00     5.000000           0    0.852381   \n",
       "2     1.000000     1.000000         5.00     5.000000           2    1.320189   \n",
       "3     4.666667     1.333333         4.25     4.428571           0    0.519198   \n",
       "4     4.666667     3.666667         4.25     5.000000           0    1.154005   \n",
       "\n",
       "       caseid  \n",
       "0  1231308943  \n",
       "1  1232300315  \n",
       "2  1232358697  \n",
       "3  1232540961  \n",
       "4  1232580601  \n",
       "\n",
       "[5 rows x 21 columns]"
      ]
     },
     "execution_count": 2,
     "metadata": {},
     "output_type": "execute_result"
    }
   ],
   "source": [
    "cces = pd.read_csv('cces_example_data.csv')\n",
    "cces.head()"
   ]
  },
  {
   "cell_type": "markdown",
   "id": "6e3a1513-3690-4db4-9e66-8b9f386fbf02",
   "metadata": {},
   "source": [
    "An empty figure that contains two axes stored as a matrix"
   ]
  },
  {
   "cell_type": "code",
   "execution_count": 3,
   "id": "a2163712-cd4f-40ea-94e8-e26f4728cd80",
   "metadata": {},
   "outputs": [
    {
     "data": {
      "image/png": "[encoded data removed]",
      "text/plain": [
       "<Figure size 800x100 with 2 Axes>"
      ]
     },
     "metadata": {},
     "output_type": "display_data"
    }
   ],
   "source": [
    "fig1, ax1 = plt.subplots(1, 2, figsize = (8, 1))\n",
    "ax1[0].set_title('Age Histogram')\n",
    "ax1[1].set_title('Political Identity')\n",
    "\n",
    "plt.show()\n",
    "\n"
   ]
  },
  {
   "cell_type": "markdown",
   "id": "48877e72-fe92-49b6-aa3c-09f5c7232d65",
   "metadata": {},
   "source": [
    "A figure that includes one axes that displays a bar plot of the frequencies of responses in the `Evaluation` variable"
   ]
  },
  {
   "cell_type": "markdown",
   "id": "f808ebcb-bb99-4b81-8109-f30a4335f306",
   "metadata": {},
   "source": [
    "This code counts how many entries are in each 'Evaluation', based on the 'educ' data"
   ]
  },
  {
   "cell_type": "code",
   "execution_count": 4,
   "id": "0eeee65a-40e4-4f7c-ba1a-fac701d27e1a",
   "metadata": {},
   "outputs": [
    {
     "data": {
      "text/plain": [
       "Evaluation\n",
       "0    365\n",
       "1     48\n",
       "2    202\n",
       "3     44\n",
       "Name: educ, dtype: int64"
      ]
     },
     "execution_count": 4,
     "metadata": {},
     "output_type": "execute_result"
    }
   ],
   "source": [
    "cces.groupby('Evaluation')['educ'].count()"
   ]
  },
  {
   "cell_type": "markdown",
   "id": "c1c6b2fb-15ef-4675-84d0-c14f2a790f3b",
   "metadata": {},
   "source": [
    "This code counts how many times each 'evaluation' type appears in the data based on the `Evaluation' column"
   ]
  },
  {
   "cell_type": "code",
   "execution_count": 5,
   "id": "d5bdd147-258a-4688-a5f9-976a45d5eac5",
   "metadata": {},
   "outputs": [
    {
     "data": {
      "text/plain": [
       "Index([0, 1, 2, 3], dtype='int64', name='Evaluation')"
      ]
     },
     "execution_count": 5,
     "metadata": {},
     "output_type": "execute_result"
    }
   ],
   "source": [
    "evaluation_freq = cces.groupby('Evaluation')['educ'].count()\n",
    "evaluation_freq.index"
   ]
  },
  {
   "cell_type": "markdown",
   "id": "562d9818-d23a-4083-9a96-5ce1706a543f",
   "metadata": {},
   "source": [
    "This code creates a bar graph, showing how often different categories of 'Evaluation' appear"
   ]
  },
  {
   "cell_type": "code",
   "execution_count": 6,
   "id": "4ed595e7-a82d-407d-b8fd-7cf12c8cc78b",
   "metadata": {},
   "outputs": [
    {
     "data": {
      "image/png": "[encoded data removed]",
      "text/plain": [
       "<Figure size 640x480 with 1 Axes>"
      ]
     },
     "metadata": {},
     "output_type": "display_data"
    }
   ],
   "source": [
    "fig2, ax2 = plt.subplots()\n",
    "ax2.bar(x = evaluation_freq.index, height = evaluation_freq)\n",
    "\n",
    "plt.show()"
   ]
  },
  {
   "cell_type": "markdown",
   "id": "0526dfd4-ec0c-464b-88a1-f3ee0b49cc9b",
   "metadata": {},
   "source": [
    "A figure that includes one axes that displays a scatter plot of the `ConMediaUse` and `ImmiPhobia` variables"
   ]
  },
  {
   "cell_type": "code",
   "execution_count": 7,
   "id": "e41c805e-e04c-4f3d-98a3-630007081501",
   "metadata": {},
   "outputs": [
    {
     "data": {
      "image/png": "[encoded data removed]",
      "text/plain": [
       "<Figure size 640x480 with 1 Axes>"
      ]
     },
     "metadata": {},
     "output_type": "display_data"
    }
   ],
   "source": [
    "fig3, ax3 = plt.subplots()\n",
    "ax3.scatter(x = cces['ConMediaUse'], y = cces['ImmiPhobia'])\n",
    "\n",
    "plt.show()"
   ]
  },
  {
   "cell_type": "markdown",
   "id": "7ff89410-fa79-4cb0-a515-5bb7d47c3f1f",
   "metadata": {},
   "source": [
    "The dataset 'cces_example_data.cvs' is very large. From the frequency count below, I noticed that the observations have the same numeric values in terms of frequency. For example, ConMediaUse with a value of 000000 appears 138 times for ImmiPhobia. This means that in an x-y scatter plot, many points will lie on each other.\r\n",
    "To improve the scatter plot, we can apply a small amount of jitter to the points. This technique slightly displaces each point randomly in either the x '(ConMediaUs'e) or y '(ImmiPhobi'a) direction, or both. Additionally, we can improve the scatter plot by including partial transparency. Making individual points partially transparent allows overplotted points to appear darker, which helps indicate the density of points in that areas of the graph.\n",
    "\n",
    "\n",
    "Wilke, Claus O. \"Handling Overlapping Points.\" Fundamentals of Data Visualization. n.d., \n",
    "https://clauswilke.com/dataviz/overlapping-points.html."
   ]
  },
  {
   "cell_type": "code",
   "execution_count": 8,
   "id": "8c6b5774-6aa1-4589-8631-6aa73ec05c36",
   "metadata": {},
   "outputs": [
    {
     "data": {
      "text/plain": [
       "ConMediaUse\n",
       "1.000000    138\n",
       "1.333333     79\n",
       "1.666667     79\n",
       "2.000000     55\n",
       "2.333333     49\n",
       "2.666667     50\n",
       "3.000000     52\n",
       "3.333333     38\n",
       "3.666667     23\n",
       "4.000000     23\n",
       "4.333333     18\n",
       "4.666667     19\n",
       "5.000000      8\n",
       "5.333333      7\n",
       "5.666667     16\n",
       "6.000000      5\n",
       "Name: ImmiPhobia, dtype: int64"
      ]
     },
     "execution_count": 8,
     "metadata": {},
     "output_type": "execute_result"
    }
   ],
   "source": [
    "cces.groupby('ConMediaUse')['ImmiPhobia'].count()"
   ]
  },
  {
   "cell_type": "code",
   "execution_count": null,
   "id": "ac63f5d4-7564-43f7-9c1c-2fefa0d461c9",
   "metadata": {},
   "outputs": [],
   "source": []
  }
 ],
 "metadata": {
  "kernelspec": {
   "display_name": "Python 3 (ipykernel)",
   "language": "python",
   "name": "python3"
  },
  "language_info": {
   "codemirror_mode": {
    "name": "ipython",
    "version": 3
   },
   "file_extension": ".py",
   "mimetype": "text/x-python",
   "name": "python",
   "nbconvert_exporter": "python",
   "pygments_lexer": "ipython3",
   "version": "3.12.4"
  }
 },
 "nbformat": 4,
 "nbformat_minor": 5
}
