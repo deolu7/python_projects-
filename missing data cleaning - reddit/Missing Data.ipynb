{
 "cells": [
  {
   "cell_type": "code",
   "execution_count": 1,
   "id": "ad798fa0-11c7-4fc5-b85e-8df9391a893a",
   "metadata": {},
   "outputs": [],
   "source": [
    "import pandas as pd \n",
    "from matplotlib import pyplot as plt \n",
    "import numpy as np"
   ]
  },
  {
   "cell_type": "code",
   "execution_count": 2,
   "id": "f17a238c-e0ef-4cf1-b973-f55362171b09",
   "metadata": {},
   "outputs": [
    {
     "data": {
      "text/html": [
       "<div>\n",
       "<style scoped>\n",
       "    .dataframe tbody tr th:only-of-type {\n",
       "        vertical-align: middle;\n",
       "    }\n",
       "\n",
       "    .dataframe tbody tr th {\n",
       "        vertical-align: top;\n",
       "    }\n",
       "\n",
       "    .dataframe thead th {\n",
       "        text-align: right;\n",
       "    }\n",
       "</style>\n",
       "<table border=\"1\" class=\"dataframe\">\n",
       "  <thead>\n",
       "    <tr style=\"text-align: right;\">\n",
       "      <th></th>\n",
       "      <th>Date</th>\n",
       "      <th>Domain</th>\n",
       "      <th>Sentiment</th>\n",
       "      <th>Language</th>\n",
       "      <th>Author</th>\n",
       "      <th>Thread Entry Type</th>\n",
       "      <th>Reddit Author Awardee Karma</th>\n",
       "      <th>Reddit Author Awarder Karma</th>\n",
       "      <th>Reddit Author Karma</th>\n",
       "      <th>Reddit Comments</th>\n",
       "      <th>Reddit Score</th>\n",
       "      <th>Reddit Score Upvote Ratio</th>\n",
       "    </tr>\n",
       "  </thead>\n",
       "  <tbody>\n",
       "    <tr>\n",
       "      <th>0</th>\n",
       "      <td>2/9/2023 20:12</td>\n",
       "      <td>reddit.com</td>\n",
       "      <td>neutral</td>\n",
       "      <td>en</td>\n",
       "      <td>AutoModerator</td>\n",
       "      <td>reply</td>\n",
       "      <td>2397363</td>\n",
       "      <td>0</td>\n",
       "      <td>2000</td>\n",
       "      <td>NaN</td>\n",
       "      <td>1</td>\n",
       "      <td>NaN</td>\n",
       "    </tr>\n",
       "    <tr>\n",
       "      <th>1</th>\n",
       "      <td>2/9/2023 17:42</td>\n",
       "      <td>reddit.com</td>\n",
       "      <td>neutral</td>\n",
       "      <td>en</td>\n",
       "      <td>AutoModerator</td>\n",
       "      <td>reply</td>\n",
       "      <td>2397218</td>\n",
       "      <td>0</td>\n",
       "      <td>2000</td>\n",
       "      <td>NaN</td>\n",
       "      <td>1</td>\n",
       "      <td>NaN</td>\n",
       "    </tr>\n",
       "    <tr>\n",
       "      <th>2</th>\n",
       "      <td>2/9/2023 17:41</td>\n",
       "      <td>reddit.com</td>\n",
       "      <td>neutral</td>\n",
       "      <td>en</td>\n",
       "      <td>AutoModerator</td>\n",
       "      <td>reply</td>\n",
       "      <td>2397218</td>\n",
       "      <td>0</td>\n",
       "      <td>2000</td>\n",
       "      <td>NaN</td>\n",
       "      <td>1</td>\n",
       "      <td>NaN</td>\n",
       "    </tr>\n",
       "    <tr>\n",
       "      <th>3</th>\n",
       "      <td>2/8/2023 22:12</td>\n",
       "      <td>reddit.com</td>\n",
       "      <td>negative</td>\n",
       "      <td>en</td>\n",
       "      <td>KaylaST</td>\n",
       "      <td>reply</td>\n",
       "      <td>110</td>\n",
       "      <td>14</td>\n",
       "      <td>1470</td>\n",
       "      <td>NaN</td>\n",
       "      <td>1</td>\n",
       "      <td>NaN</td>\n",
       "    </tr>\n",
       "    <tr>\n",
       "      <th>4</th>\n",
       "      <td>2/8/2023 20:15</td>\n",
       "      <td>reddit.com</td>\n",
       "      <td>negative</td>\n",
       "      <td>en</td>\n",
       "      <td>CaveLady3000</td>\n",
       "      <td>post</td>\n",
       "      <td>311</td>\n",
       "      <td>73</td>\n",
       "      <td>4148</td>\n",
       "      <td>0.0</td>\n",
       "      <td>1</td>\n",
       "      <td>1.0</td>\n",
       "    </tr>\n",
       "  </tbody>\n",
       "</table>\n",
       "</div>"
      ],
      "text/plain": [
       "             Date      Domain Sentiment Language         Author  \\\n",
       "0  2/9/2023 20:12  reddit.com   neutral       en  AutoModerator   \n",
       "1  2/9/2023 17:42  reddit.com   neutral       en  AutoModerator   \n",
       "2  2/9/2023 17:41  reddit.com   neutral       en  AutoModerator   \n",
       "3  2/8/2023 22:12  reddit.com  negative       en        KaylaST   \n",
       "4  2/8/2023 20:15  reddit.com  negative       en   CaveLady3000   \n",
       "\n",
       "  Thread Entry Type  Reddit Author Awardee Karma  Reddit Author Awarder Karma  \\\n",
       "0             reply                      2397363                            0   \n",
       "1             reply                      2397218                            0   \n",
       "2             reply                      2397218                            0   \n",
       "3             reply                          110                           14   \n",
       "4              post                          311                           73   \n",
       "\n",
       "   Reddit Author Karma  Reddit Comments  Reddit Score  \\\n",
       "0                 2000              NaN             1   \n",
       "1                 2000              NaN             1   \n",
       "2                 2000              NaN             1   \n",
       "3                 1470              NaN             1   \n",
       "4                 4148              0.0             1   \n",
       "\n",
       "   Reddit Score Upvote Ratio  \n",
       "0                        NaN  \n",
       "1                        NaN  \n",
       "2                        NaN  \n",
       "3                        NaN  \n",
       "4                        1.0  "
      ]
     },
     "execution_count": 2,
     "metadata": {},
     "output_type": "execute_result"
    }
   ],
   "source": [
    "reddit = pd.read_csv('reddit_data_example.csv') \n",
    "reddit.head()"
   ]
  },
  {
   "cell_type": "code",
   "execution_count": 5,
   "id": "410336ed-a725-42ba-895f-e3466db04a23",
   "metadata": {},
   "outputs": [
    {
     "data": {
      "text/plain": [
       "(8137, 12)"
      ]
     },
     "execution_count": 5,
     "metadata": {},
     "output_type": "execute_result"
    }
   ],
   "source": [
    "reddit.shape \n",
    "#to know the rows and columns"
   ]
  },
  {
   "cell_type": "code",
   "execution_count": 6,
   "id": "6457dad3-6544-4806-9c0f-4e8074bf0f11",
   "metadata": {
    "scrolled": true
   },
   "outputs": [
    {
     "data": {
      "text/plain": [
       "Index(['Date', 'Domain', 'Sentiment', 'Language', 'Author',\n",
       "       'Thread Entry Type', 'Reddit Author Awardee Karma',\n",
       "       'Reddit Author Awarder Karma', 'Reddit Author Karma', 'Reddit Comments',\n",
       "       'Reddit Score', 'Reddit Score Upvote Ratio'],\n",
       "      dtype='object')"
      ]
     },
     "execution_count": 6,
     "metadata": {},
     "output_type": "execute_result"
    }
   ],
   "source": [
    "reddit.columns"
   ]
  },
  {
   "cell_type": "markdown",
   "id": "82e05158-bd41-4992-b683-541d2f16f1d6",
   "metadata": {},
   "source": [
    "In this case we don't have missing data but we know we have missing data because not every day posts are documented here."
   ]
  },
  {
   "cell_type": "code",
   "execution_count": 7,
   "id": "31cbdb84-ab24-4688-ae3a-b985867e6bee",
   "metadata": {},
   "outputs": [
    {
     "data": {
      "image/png": "[encoded data removed]",
      "text/plain": [
       "<Figure size 640x480 with 1 Axes>"
      ]
     },
     "metadata": {},
     "output_type": "display_data"
    }
   ],
   "source": [
    "fig1, ax1 = plt.subplots() \n",
    "ax1.scatter(reddit['Date'][0:100], reddit['Reddit Score'][0:100]) \n",
    "#Here Data is X and Reddit Score is Y\n",
    "\n",
    "plt.show()"
   ]
  },
  {
   "cell_type": "markdown",
   "id": "376d4c5c-3670-48d6-8c19-3d86a3c8c550",
   "metadata": {},
   "source": [
    "Here each x value is treated as a category. Which is not the best way to do this. We will be cleaning this data."
   ]
  },
  {
   "cell_type": "code",
   "execution_count": 8,
   "id": "a1cae22e-89ec-4aaf-b917-f7757c05cf2e",
   "metadata": {},
   "outputs": [
    {
     "data": {
      "text/plain": [
       "Timestamp('2024-10-15 00:00:00')"
      ]
     },
     "execution_count": 8,
     "metadata": {},
     "output_type": "execute_result"
    }
   ],
   "source": [
    "pd.to_datetime('2024-10-15')"
   ]
  },
  {
   "cell_type": "code",
   "execution_count": 9,
   "id": "6dfcae6a-1234-49de-abe6-be2615c3b7bd",
   "metadata": {},
   "outputs": [
    {
     "data": {
      "text/plain": [
       "2024"
      ]
     },
     "execution_count": 9,
     "metadata": {},
     "output_type": "execute_result"
    }
   ],
   "source": [
    "pd.to_datetime('2024-10-15').year"
   ]
  },
  {
   "cell_type": "code",
   "execution_count": 10,
   "id": "6cfd0d75-23c9-4c7f-aadb-f1707cb00a30",
   "metadata": {},
   "outputs": [
    {
     "data": {
      "text/plain": [
       "10"
      ]
     },
     "execution_count": 10,
     "metadata": {},
     "output_type": "execute_result"
    }
   ],
   "source": [
    "pd.to_datetime('2024-10-15').month"
   ]
  },
  {
   "cell_type": "code",
   "execution_count": 11,
   "id": "99218a08-e4fd-41d7-9d34-4f31f04905bc",
   "metadata": {},
   "outputs": [
    {
     "data": {
      "text/plain": [
       "15"
      ]
     },
     "execution_count": 11,
     "metadata": {},
     "output_type": "execute_result"
    }
   ],
   "source": [
    "pd.to_datetime('2024-10-15').day"
   ]
  },
  {
   "cell_type": "code",
   "execution_count": 12,
   "id": "a7002c8d-7cc5-4891-9e49-0ab34b686b3f",
   "metadata": {},
   "outputs": [
    {
     "data": {
      "text/plain": [
       "0"
      ]
     },
     "execution_count": 12,
     "metadata": {},
     "output_type": "execute_result"
    }
   ],
   "source": [
    "pd.to_datetime('2024-10-15').second"
   ]
  },
  {
   "cell_type": "markdown",
   "id": "526e17b4-3b31-412c-814e-01e8cb367251",
   "metadata": {},
   "source": [
    "Shift + Tab to know more about a function"
   ]
  },
  {
   "cell_type": "markdown",
   "id": "aa5788f0-d2de-4847-beff-92f28174fb85",
   "metadata": {},
   "source": [
    "Time by default is midnight, UTC 0, which is Greenwich time."
   ]
  },
  {
   "cell_type": "code",
   "execution_count": 13,
   "id": "b0407404-ced6-44de-a800-628bfc4a2b17",
   "metadata": {},
   "outputs": [
    {
     "data": {
      "text/plain": [
       "0   2023-02-09 20:12:00\n",
       "1   2023-02-09 17:42:00\n",
       "2   2023-02-09 17:41:00\n",
       "3   2023-02-08 22:12:00\n",
       "4   2023-02-08 20:15:00\n",
       "Name: datetime, dtype: datetime64[ns]"
      ]
     },
     "execution_count": 13,
     "metadata": {},
     "output_type": "execute_result"
    }
   ],
   "source": [
    "reddit['datetime'] = pd.to_datetime(reddit['Date']) \n",
    "reddit['datetime'].iloc[0:5]"
   ]
  },
  {
   "cell_type": "code",
   "execution_count": 15,
   "id": "8275e99c-e902-4d9a-b317-4b6a873b7108",
   "metadata": {},
   "outputs": [
    {
     "data": {
      "image/png": "[encoded data removed]",
      "text/plain": [
       "<Figure size 640x480 with 1 Axes>"
      ]
     },
     "metadata": {},
     "output_type": "display_data"
    }
   ],
   "source": [
    "fig2, ax2 = plt.subplots() \n",
    "ax2.scatter(reddit['datetime'], reddit['Reddit Score']) \n",
    "#Here Data is X and Reddit Score is Y\n",
    "\n",
    "plt.show()"
   ]
  },
  {
   "cell_type": "markdown",
   "id": "8d194d82-a351-468b-9811-0e4587d892b0",
   "metadata": {},
   "source": [
    "We are going to include absent date for example 2018 and 2019."
   ]
  },
  {
   "cell_type": "markdown",
   "id": "46345503-ad27-4113-919e-1d62bad7e182",
   "metadata": {},
   "source": [
    "reddit[reddit['datetime']< pd.to_datetime('2019-01-01')]['Full Text'] will not work in this case because the actual full text has been removed for privacy reasons as this is related to health posts which contains sensitive date"
   ]
  },
  {
   "cell_type": "code",
   "execution_count": 19,
   "id": "1547acd2-bd8c-4a03-9d3a-9e6adcf40a9c",
   "metadata": {},
   "outputs": [
    {
     "data": {
      "text/html": [
       "<div>\n",
       "<style scoped>\n",
       "    .dataframe tbody tr th:only-of-type {\n",
       "        vertical-align: middle;\n",
       "    }\n",
       "\n",
       "    .dataframe tbody tr th {\n",
       "        vertical-align: top;\n",
       "    }\n",
       "\n",
       "    .dataframe thead th {\n",
       "        text-align: right;\n",
       "    }\n",
       "</style>\n",
       "<table border=\"1\" class=\"dataframe\">\n",
       "  <thead>\n",
       "    <tr style=\"text-align: right;\">\n",
       "      <th></th>\n",
       "      <th>Date</th>\n",
       "      <th>Domain</th>\n",
       "      <th>Sentiment</th>\n",
       "      <th>Language</th>\n",
       "      <th>Author</th>\n",
       "      <th>Thread Entry Type</th>\n",
       "      <th>Reddit Author Awardee Karma</th>\n",
       "      <th>Reddit Author Awarder Karma</th>\n",
       "      <th>Reddit Author Karma</th>\n",
       "      <th>Reddit Comments</th>\n",
       "      <th>Reddit Score</th>\n",
       "      <th>Reddit Score Upvote Ratio</th>\n",
       "      <th>datetime</th>\n",
       "    </tr>\n",
       "  </thead>\n",
       "  <tbody>\n",
       "    <tr>\n",
       "      <th>8135</th>\n",
       "      <td>7/8/2017 0:35</td>\n",
       "      <td>reddit.com</td>\n",
       "      <td>negative</td>\n",
       "      <td>en</td>\n",
       "      <td>#NAME?</td>\n",
       "      <td>post</td>\n",
       "      <td>0</td>\n",
       "      <td>0</td>\n",
       "      <td>0</td>\n",
       "      <td>0.0</td>\n",
       "      <td>0</td>\n",
       "      <td>NaN</td>\n",
       "      <td>2017-07-08 00:35:00</td>\n",
       "    </tr>\n",
       "    <tr>\n",
       "      <th>8136</th>\n",
       "      <td>6/20/2017 0:01</td>\n",
       "      <td>reddit.com</td>\n",
       "      <td>neutral</td>\n",
       "      <td>en</td>\n",
       "      <td>RaaaaeAnn</td>\n",
       "      <td>post</td>\n",
       "      <td>0</td>\n",
       "      <td>0</td>\n",
       "      <td>0</td>\n",
       "      <td>0.0</td>\n",
       "      <td>0</td>\n",
       "      <td>NaN</td>\n",
       "      <td>2017-06-20 00:01:00</td>\n",
       "    </tr>\n",
       "  </tbody>\n",
       "</table>\n",
       "</div>"
      ],
      "text/plain": [
       "                Date      Domain Sentiment Language     Author  \\\n",
       "8135   7/8/2017 0:35  reddit.com  negative       en     #NAME?   \n",
       "8136  6/20/2017 0:01  reddit.com   neutral       en  RaaaaeAnn   \n",
       "\n",
       "     Thread Entry Type  Reddit Author Awardee Karma  \\\n",
       "8135              post                            0   \n",
       "8136              post                            0   \n",
       "\n",
       "      Reddit Author Awarder Karma  Reddit Author Karma  Reddit Comments  \\\n",
       "8135                            0                    0              0.0   \n",
       "8136                            0                    0              0.0   \n",
       "\n",
       "      Reddit Score  Reddit Score Upvote Ratio            datetime  \n",
       "8135             0                        NaN 2017-07-08 00:35:00  \n",
       "8136             0                        NaN 2017-06-20 00:01:00  "
      ]
     },
     "execution_count": 19,
     "metadata": {},
     "output_type": "execute_result"
    }
   ],
   "source": [
    "reddit[reddit['datetime']< pd.to_datetime('2019-01-01')]"
   ]
  },
  {
   "cell_type": "code",
   "execution_count": 20,
   "id": "85bfa0e5-7e70-4d3a-9633-e1bfad28e480",
   "metadata": {},
   "outputs": [
    {
     "data": {
      "text/plain": [
       "(Timestamp('2017-06-20 00:01:00'), Timestamp('2023-02-09 20:12:00'))"
      ]
     },
     "execution_count": 20,
     "metadata": {},
     "output_type": "execute_result"
    }
   ],
   "source": [
    "(reddit['datetime'].min(), reddit['datetime'].max())"
   ]
  },
  {
   "cell_type": "code",
   "execution_count": 22,
   "id": "51bae2ac-83ff-42f9-aaf3-9057bad0826b",
   "metadata": {},
   "outputs": [
    {
     "data": {
      "text/plain": [
       "DatetimeIndex(['2017-06-20', '2017-06-21', '2017-06-22', '2017-06-23',\n",
       "               '2017-06-24', '2017-06-25', '2017-06-26', '2017-06-27',\n",
       "               '2017-06-28', '2017-06-29'],\n",
       "              dtype='datetime64[ns]', freq='D')"
      ]
     },
     "execution_count": 22,
     "metadata": {},
     "output_type": "execute_result"
    }
   ],
   "source": [
    "date_range = pd.date_range(start = '2017-06-20', end = '2023-02-09', freq='D')  \n",
    "#Here freq='D', is for days and we can use other things \n",
    "date_range[0:10]"
   ]
  },
  {
   "cell_type": "markdown",
   "id": "d9b67978-1934-44e2-aa16-d82347ed4271",
   "metadata": {},
   "source": [
    "We will aggregate the date on a  daily basis."
   ]
  },
  {
   "cell_type": "code",
   "execution_count": 25,
   "id": "b60abfc6-1e59-4228-a23f-3f8303e8cc88",
   "metadata": {},
   "outputs": [
    {
     "data": {
      "text/plain": [
       "0       2023-02-09\n",
       "1       2023-02-09\n",
       "2       2023-02-09\n",
       "3       2023-02-08\n",
       "4       2023-02-08\n",
       "           ...    \n",
       "8132    2019-07-09\n",
       "8133    2019-07-09\n",
       "8134    2019-07-09\n",
       "8135    2017-07-08\n",
       "8136    2017-06-20\n",
       "Name: datetime, Length: 8137, dtype: object"
      ]
     },
     "execution_count": 25,
     "metadata": {},
     "output_type": "execute_result"
    }
   ],
   "source": [
    "reddit['datetime'].dt.date \n",
    "#We can use the dt to call the date or other values"
   ]
  },
  {
   "cell_type": "code",
   "execution_count": 26,
   "id": "6996b2b8-d0b8-408d-b1dc-7ad4e46c35d6",
   "metadata": {},
   "outputs": [
    {
     "data": {
      "text/html": [
       "<div>\n",
       "<style scoped>\n",
       "    .dataframe tbody tr th:only-of-type {\n",
       "        vertical-align: middle;\n",
       "    }\n",
       "\n",
       "    .dataframe tbody tr th {\n",
       "        vertical-align: top;\n",
       "    }\n",
       "\n",
       "    .dataframe thead th {\n",
       "        text-align: right;\n",
       "    }\n",
       "</style>\n",
       "<table border=\"1\" class=\"dataframe\">\n",
       "  <thead>\n",
       "    <tr style=\"text-align: right;\">\n",
       "      <th></th>\n",
       "      <th>Date</th>\n",
       "      <th>Domain</th>\n",
       "      <th>Sentiment</th>\n",
       "      <th>Language</th>\n",
       "      <th>Author</th>\n",
       "      <th>Thread Entry Type</th>\n",
       "      <th>Reddit Author Awardee Karma</th>\n",
       "      <th>Reddit Author Awarder Karma</th>\n",
       "      <th>Reddit Author Karma</th>\n",
       "      <th>Reddit Comments</th>\n",
       "      <th>Reddit Score</th>\n",
       "      <th>Reddit Score Upvote Ratio</th>\n",
       "      <th>datetime</th>\n",
       "    </tr>\n",
       "    <tr>\n",
       "      <th>datetime</th>\n",
       "      <th></th>\n",
       "      <th></th>\n",
       "      <th></th>\n",
       "      <th></th>\n",
       "      <th></th>\n",
       "      <th></th>\n",
       "      <th></th>\n",
       "      <th></th>\n",
       "      <th></th>\n",
       "      <th></th>\n",
       "      <th></th>\n",
       "      <th></th>\n",
       "      <th></th>\n",
       "    </tr>\n",
       "  </thead>\n",
       "  <tbody>\n",
       "    <tr>\n",
       "      <th>2017-06-20</th>\n",
       "      <td>1</td>\n",
       "      <td>1</td>\n",
       "      <td>1</td>\n",
       "      <td>1</td>\n",
       "      <td>1</td>\n",
       "      <td>1</td>\n",
       "      <td>1</td>\n",
       "      <td>1</td>\n",
       "      <td>1</td>\n",
       "      <td>1</td>\n",
       "      <td>1</td>\n",
       "      <td>0</td>\n",
       "      <td>1</td>\n",
       "    </tr>\n",
       "    <tr>\n",
       "      <th>2017-07-08</th>\n",
       "      <td>1</td>\n",
       "      <td>1</td>\n",
       "      <td>1</td>\n",
       "      <td>1</td>\n",
       "      <td>1</td>\n",
       "      <td>1</td>\n",
       "      <td>1</td>\n",
       "      <td>1</td>\n",
       "      <td>1</td>\n",
       "      <td>1</td>\n",
       "      <td>1</td>\n",
       "      <td>0</td>\n",
       "      <td>1</td>\n",
       "    </tr>\n",
       "    <tr>\n",
       "      <th>2019-07-09</th>\n",
       "      <td>4</td>\n",
       "      <td>4</td>\n",
       "      <td>4</td>\n",
       "      <td>4</td>\n",
       "      <td>4</td>\n",
       "      <td>4</td>\n",
       "      <td>4</td>\n",
       "      <td>4</td>\n",
       "      <td>4</td>\n",
       "      <td>0</td>\n",
       "      <td>4</td>\n",
       "      <td>0</td>\n",
       "      <td>4</td>\n",
       "    </tr>\n",
       "    <tr>\n",
       "      <th>2019-07-10</th>\n",
       "      <td>2</td>\n",
       "      <td>2</td>\n",
       "      <td>2</td>\n",
       "      <td>2</td>\n",
       "      <td>2</td>\n",
       "      <td>2</td>\n",
       "      <td>2</td>\n",
       "      <td>2</td>\n",
       "      <td>2</td>\n",
       "      <td>1</td>\n",
       "      <td>2</td>\n",
       "      <td>0</td>\n",
       "      <td>2</td>\n",
       "    </tr>\n",
       "    <tr>\n",
       "      <th>2019-07-11</th>\n",
       "      <td>1</td>\n",
       "      <td>1</td>\n",
       "      <td>1</td>\n",
       "      <td>1</td>\n",
       "      <td>1</td>\n",
       "      <td>1</td>\n",
       "      <td>1</td>\n",
       "      <td>1</td>\n",
       "      <td>1</td>\n",
       "      <td>1</td>\n",
       "      <td>1</td>\n",
       "      <td>0</td>\n",
       "      <td>1</td>\n",
       "    </tr>\n",
       "    <tr>\n",
       "      <th>...</th>\n",
       "      <td>...</td>\n",
       "      <td>...</td>\n",
       "      <td>...</td>\n",
       "      <td>...</td>\n",
       "      <td>...</td>\n",
       "      <td>...</td>\n",
       "      <td>...</td>\n",
       "      <td>...</td>\n",
       "      <td>...</td>\n",
       "      <td>...</td>\n",
       "      <td>...</td>\n",
       "      <td>...</td>\n",
       "      <td>...</td>\n",
       "    </tr>\n",
       "    <tr>\n",
       "      <th>2023-02-05</th>\n",
       "      <td>4</td>\n",
       "      <td>4</td>\n",
       "      <td>4</td>\n",
       "      <td>4</td>\n",
       "      <td>4</td>\n",
       "      <td>4</td>\n",
       "      <td>4</td>\n",
       "      <td>4</td>\n",
       "      <td>4</td>\n",
       "      <td>0</td>\n",
       "      <td>4</td>\n",
       "      <td>0</td>\n",
       "      <td>4</td>\n",
       "    </tr>\n",
       "    <tr>\n",
       "      <th>2023-02-06</th>\n",
       "      <td>2</td>\n",
       "      <td>2</td>\n",
       "      <td>2</td>\n",
       "      <td>2</td>\n",
       "      <td>2</td>\n",
       "      <td>2</td>\n",
       "      <td>2</td>\n",
       "      <td>2</td>\n",
       "      <td>2</td>\n",
       "      <td>0</td>\n",
       "      <td>2</td>\n",
       "      <td>0</td>\n",
       "      <td>2</td>\n",
       "    </tr>\n",
       "    <tr>\n",
       "      <th>2023-02-07</th>\n",
       "      <td>7</td>\n",
       "      <td>7</td>\n",
       "      <td>7</td>\n",
       "      <td>7</td>\n",
       "      <td>7</td>\n",
       "      <td>7</td>\n",
       "      <td>7</td>\n",
       "      <td>7</td>\n",
       "      <td>7</td>\n",
       "      <td>0</td>\n",
       "      <td>7</td>\n",
       "      <td>0</td>\n",
       "      <td>7</td>\n",
       "    </tr>\n",
       "    <tr>\n",
       "      <th>2023-02-08</th>\n",
       "      <td>9</td>\n",
       "      <td>9</td>\n",
       "      <td>9</td>\n",
       "      <td>9</td>\n",
       "      <td>9</td>\n",
       "      <td>9</td>\n",
       "      <td>9</td>\n",
       "      <td>9</td>\n",
       "      <td>9</td>\n",
       "      <td>1</td>\n",
       "      <td>9</td>\n",
       "      <td>1</td>\n",
       "      <td>9</td>\n",
       "    </tr>\n",
       "    <tr>\n",
       "      <th>2023-02-09</th>\n",
       "      <td>3</td>\n",
       "      <td>3</td>\n",
       "      <td>3</td>\n",
       "      <td>3</td>\n",
       "      <td>3</td>\n",
       "      <td>3</td>\n",
       "      <td>3</td>\n",
       "      <td>3</td>\n",
       "      <td>3</td>\n",
       "      <td>0</td>\n",
       "      <td>3</td>\n",
       "      <td>0</td>\n",
       "      <td>3</td>\n",
       "    </tr>\n",
       "  </tbody>\n",
       "</table>\n",
       "<p>1181 rows × 13 columns</p>\n",
       "</div>"
      ],
      "text/plain": [
       "            Date  Domain  Sentiment  Language  Author  Thread Entry Type  \\\n",
       "datetime                                                                   \n",
       "2017-06-20     1       1          1         1       1                  1   \n",
       "2017-07-08     1       1          1         1       1                  1   \n",
       "2019-07-09     4       4          4         4       4                  4   \n",
       "2019-07-10     2       2          2         2       2                  2   \n",
       "2019-07-11     1       1          1         1       1                  1   \n",
       "...          ...     ...        ...       ...     ...                ...   \n",
       "2023-02-05     4       4          4         4       4                  4   \n",
       "2023-02-06     2       2          2         2       2                  2   \n",
       "2023-02-07     7       7          7         7       7                  7   \n",
       "2023-02-08     9       9          9         9       9                  9   \n",
       "2023-02-09     3       3          3         3       3                  3   \n",
       "\n",
       "            Reddit Author Awardee Karma  Reddit Author Awarder Karma  \\\n",
       "datetime                                                               \n",
       "2017-06-20                            1                            1   \n",
       "2017-07-08                            1                            1   \n",
       "2019-07-09                            4                            4   \n",
       "2019-07-10                            2                            2   \n",
       "2019-07-11                            1                            1   \n",
       "...                                 ...                          ...   \n",
       "2023-02-05                            4                            4   \n",
       "2023-02-06                            2                            2   \n",
       "2023-02-07                            7                            7   \n",
       "2023-02-08                            9                            9   \n",
       "2023-02-09                            3                            3   \n",
       "\n",
       "            Reddit Author Karma  Reddit Comments  Reddit Score  \\\n",
       "datetime                                                         \n",
       "2017-06-20                    1                1             1   \n",
       "2017-07-08                    1                1             1   \n",
       "2019-07-09                    4                0             4   \n",
       "2019-07-10                    2                1             2   \n",
       "2019-07-11                    1                1             1   \n",
       "...                         ...              ...           ...   \n",
       "2023-02-05                    4                0             4   \n",
       "2023-02-06                    2                0             2   \n",
       "2023-02-07                    7                0             7   \n",
       "2023-02-08                    9                1             9   \n",
       "2023-02-09                    3                0             3   \n",
       "\n",
       "            Reddit Score Upvote Ratio  datetime  \n",
       "datetime                                         \n",
       "2017-06-20                          0         1  \n",
       "2017-07-08                          0         1  \n",
       "2019-07-09                          0         4  \n",
       "2019-07-10                          0         2  \n",
       "2019-07-11                          0         1  \n",
       "...                               ...       ...  \n",
       "2023-02-05                          0         4  \n",
       "2023-02-06                          0         2  \n",
       "2023-02-07                          0         7  \n",
       "2023-02-08                          1         9  \n",
       "2023-02-09                          0         3  \n",
       "\n",
       "[1181 rows x 13 columns]"
      ]
     },
     "execution_count": 26,
     "metadata": {},
     "output_type": "execute_result"
    }
   ],
   "source": [
    "reddit.groupby(reddit['datetime'].dt.date).count()"
   ]
  },
  {
   "cell_type": "code",
   "execution_count": 27,
   "id": "5537f164-2382-4bdb-b7d2-73c9f1c6ac03",
   "metadata": {},
   "outputs": [],
   "source": [
    "reddit_count_by_day = reddit.groupby(reddit['datetime'].dt.date)['Reddit Score'].count()"
   ]
  },
  {
   "cell_type": "code",
   "execution_count": 28,
   "id": "21a56af2-4b92-40e6-a539-864c0fef9e2c",
   "metadata": {},
   "outputs": [
    {
     "data": {
      "text/plain": [
       "datetime\n",
       "2017-06-20    1\n",
       "2017-07-08    1\n",
       "2019-07-09    4\n",
       "2019-07-10    2\n",
       "2019-07-11    1\n",
       "             ..\n",
       "2023-02-05    4\n",
       "2023-02-06    2\n",
       "2023-02-07    7\n",
       "2023-02-08    9\n",
       "2023-02-09    3\n",
       "Name: Reddit Score, Length: 1181, dtype: int64"
      ]
     },
     "execution_count": 28,
     "metadata": {},
     "output_type": "execute_result"
    }
   ],
   "source": [
    "reddit_count_by_day"
   ]
  },
  {
   "cell_type": "code",
   "execution_count": 30,
   "id": "ceeb98ab-56e6-4b1f-9bf7-82124efb42b6",
   "metadata": {},
   "outputs": [
    {
     "data": {
      "image/png": "[encoded data removed]",
      "text/plain": [
       "<Figure size 640x480 with 1 Axes>"
      ]
     },
     "metadata": {},
     "output_type": "display_data"
    }
   ],
   "source": [
    "fig3, ax3 = plt.subplots() \n",
    "ax3.scatter(reddit_count_by_day.index, reddit_count_by_day) \n",
    "plt.show()"
   ]
  },
  {
   "cell_type": "code",
   "execution_count": 32,
   "id": "fac49b9a-96b6-410e-bbd2-c737ffff7c8d",
   "metadata": {},
   "outputs": [
    {
     "data": {
      "text/plain": [
       "2017-06-20    1.0\n",
       "2017-06-21    NaN\n",
       "2017-06-22    NaN\n",
       "2017-06-23    NaN\n",
       "2017-06-24    NaN\n",
       "Freq: D, Name: Reddit Score, dtype: float64"
      ]
     },
     "execution_count": 32,
     "metadata": {},
     "output_type": "execute_result"
    }
   ],
   "source": [
    "rds = pd.Series(reddit_count_by_day, index = date_range) \n",
    "rds.head()"
   ]
  },
  {
   "cell_type": "code",
   "execution_count": 33,
   "id": "35793ecd-b353-46c9-9f3c-7a4d55b9e0c8",
   "metadata": {},
   "outputs": [
    {
     "data": {
      "text/plain": [
       "6.889923793395428"
      ]
     },
     "execution_count": 33,
     "metadata": {},
     "output_type": "execute_result"
    }
   ],
   "source": [
    "rds.mean()"
   ]
  },
  {
   "cell_type": "code",
   "execution_count": 34,
   "id": "14920774-4b7f-4e6d-9fd9-be6d341de8f7",
   "metadata": {},
   "outputs": [
    {
     "data": {
      "text/plain": [
       "50.0"
      ]
     },
     "execution_count": 34,
     "metadata": {},
     "output_type": "execute_result"
    }
   ],
   "source": [
    "rds.max()"
   ]
  },
  {
   "cell_type": "code",
   "execution_count": 47,
   "id": "739b0f5d-3c26-42c4-9c6f-191c440ca7b3",
   "metadata": {},
   "outputs": [
    {
     "data": {
      "text/plain": [
       "<function matplotlib.pyplot.show(close=None, block=None)>"
      ]
     },
     "execution_count": 47,
     "metadata": {},
     "output_type": "execute_result"
    },
    {
     "data": {
      "image/png": "[encoded data removed]",
      "text/plain": [
       "<Figure size 2000x200 with 1 Axes>"
      ]
     },
     "metadata": {},
     "output_type": "display_data"
    }
   ],
   "source": [
    "fig4, ax4 = plt.subplots(figsize =(20, 2)) \n",
    "ax4.plot(rds.index, rds.fillna(0)) \n",
    "plt.show"
   ]
  },
  {
   "cell_type": "code",
   "execution_count": 39,
   "id": "48fedb54-3518-424f-992b-2ad1860f6205",
   "metadata": {},
   "outputs": [
    {
     "data": {
      "text/plain": [
       "<function matplotlib.pyplot.show(close=None, block=None)>"
      ]
     },
     "execution_count": 39,
     "metadata": {},
     "output_type": "execute_result"
    },
    {
     "data": {
      "image/png": "[encoded data removed]",
      "text/plain": [
       "<Figure size 640x480 with 1 Axes>"
      ]
     },
     "metadata": {},
     "output_type": "display_data"
    }
   ],
   "source": [
    "fig5, ax5 = plt.subplots() \n",
    "ax5.plot(rds.index, rds) \n",
    "plt.show"
   ]
  },
  {
   "cell_type": "markdown",
   "id": "9ca99d78-d8f1-456e-a2c6-a07848d1343d",
   "metadata": {},
   "source": [
    "Line plot takes sequential lines so if there is a missing data in middle, the lines before that will not be drawn"
   ]
  },
  {
   "cell_type": "code",
   "execution_count": 40,
   "id": "e4d73dc6-f20a-4658-8064-3de1a3dc07f8",
   "metadata": {},
   "outputs": [
    {
     "data": {
      "text/plain": [
       "<function matplotlib.pyplot.show(close=None, block=None)>"
      ]
     },
     "execution_count": 40,
     "metadata": {},
     "output_type": "execute_result"
    },
    {
     "data": {
      "image/png": "[encoded data removed]",
      "text/plain": [
       "<Figure size 640x480 with 1 Axes>"
      ]
     },
     "metadata": {},
     "output_type": "display_data"
    }
   ],
   "source": [
    "fig6, ax6 = plt.subplots() \n",
    "ax6.plot(rds.index, rds.interpolate(method = 'time')) \n",
    "plt.show"
   ]
  },
  {
   "cell_type": "code",
   "execution_count": 42,
   "id": "f4fcd657-184e-4d7e-b8a2-43a25a69f68a",
   "metadata": {},
   "outputs": [
    {
     "data": {
      "text/plain": [
       "False"
      ]
     },
     "execution_count": 42,
     "metadata": {},
     "output_type": "execute_result"
    }
   ],
   "source": [
    "None == np.nan #This is pythonic expression for missing data which might not be suitable for everything"
   ]
  },
  {
   "cell_type": "markdown",
   "id": "3bb8d9d3-a696-4f2e-91b2-37d98370f9b5",
   "metadata": {},
   "source": [
    "'999' #this for data where 999 entered for missing data. 'NaN' is in situation where NaN indicates missing data, usually in excel files."
   ]
  },
  {
   "cell_type": "code",
   "execution_count": 45,
   "id": "e1b2b011-62ee-474e-ab4b-1126d9b98344",
   "metadata": {},
   "outputs": [
    {
     "data": {
      "text/plain": [
       "0       False\n",
       "1       False\n",
       "2       False\n",
       "3       False\n",
       "4       False\n",
       "        ...  \n",
       "8132    False\n",
       "8133    False\n",
       "8134    False\n",
       "8135    False\n",
       "8136    False\n",
       "Name: datetime, Length: 8137, dtype: bool"
      ]
     },
     "execution_count": 45,
     "metadata": {},
     "output_type": "execute_result"
    }
   ],
   "source": [
    "reddit['datetime'].isnull()"
   ]
  },
  {
   "cell_type": "markdown",
   "id": "ae250575-b66e-43af-80d8-60279abac439",
   "metadata": {},
   "source": [
    "isnull() is the pandas fuction for missing data"
   ]
  },
  {
   "cell_type": "code",
   "execution_count": null,
   "id": "9c414b37-f6d9-43ad-89a8-5865391ac4c1",
   "metadata": {},
   "outputs": [],
   "source": [
    "reddit.group("
   ]
  }
 ],
 "metadata": {
  "kernelspec": {
   "display_name": "Python 3 (ipykernel)",
   "language": "python",
   "name": "python3"
  },
  "language_info": {
   "codemirror_mode": {
    "name": "ipython",
    "version": 3
   },
   "file_extension": ".py",
   "mimetype": "text/x-python",
   "name": "python",
   "nbconvert_exporter": "python",
   "pygments_lexer": "ipython3",
   "version": "3.12.4"
  }
 },
 "nbformat": 4,
 "nbformat_minor": 5
}
