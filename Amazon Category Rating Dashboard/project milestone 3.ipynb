{
 "cells": [
  {
   "cell_type": "code",
   "execution_count": null,
   "id": "a64a7369-1b02-4dbe-a935-5ecd09320523",
   "metadata": {},
   "outputs": [],
   "source": [
    "import pandas as pd\n",
    "import json\n",
    "import plotly.graph_objects as go\n",
    "import plotly.express as px\n",
    "import seaborn as sns"
   ]
  },
  {
   "cell_type": "code",
   "execution_count": null,
   "id": "e15f2b59-8d92-47fa-bb49-f1b277a42928",
   "metadata": {},
   "outputs": [],
   "source": [
    "literal_path = r\"C:\\Users\\oluwa\\meta_Software.jsonl\"\n",
    "\n",
    "with open(literal_path) as j:\n",
    "    for line in j:\n",
    "        sft_ware = json.loads(line)"
   ]
  },
  {
   "cell_type": "markdown",
   "id": "0347a31d-bc57-422a-b036-564a49f3e710",
   "metadata": {},
   "source": [
    "### load the dataset"
   ]
  },
  {
   "cell_type": "code",
   "execution_count": null,
   "id": "25648918-25ed-450d-9678-d6af36c1bd0e",
   "metadata": {},
   "outputs": [],
   "source": [
    "df = pd.read_json('meta_Software.jsonl', lines=True) \n",
    "df.head(1)"
   ]
  },
  {
   "cell_type": "markdown",
   "id": "e91d35ba-9979-45ec-bd0e-3882454c8f22",
   "metadata": {},
   "source": [
    "### Getting to know more about the data"
   ]
  },
  {
   "cell_type": "code",
   "execution_count": null,
   "id": "4db38abb-71b7-4d79-b150-9fa53fae93f0",
   "metadata": {},
   "outputs": [],
   "source": [
    "df.shape "
   ]
  },
  {
   "cell_type": "code",
   "execution_count": null,
   "id": "c255d8ab-0493-44ed-98fa-212e5b345fe3",
   "metadata": {},
   "outputs": [],
   "source": [
    "df.info()"
   ]
  },
  {
   "cell_type": "markdown",
   "id": "7f141a20-aaca-4bdb-bb79-bc7133270e8a",
   "metadata": {},
   "source": [
    "## Data Cleaning"
   ]
  },
  {
   "cell_type": "markdown",
   "id": "cb086191-3993-419c-b97d-017576c7fcdd",
   "metadata": {},
   "source": [
    "### Drop rows where 'average_rating' is missing"
   ]
  },
  {
   "cell_type": "code",
   "execution_count": null,
   "id": "de2ddfc9-5862-49d0-86a6-ba3cc91095e6",
   "metadata": {},
   "outputs": [],
   "source": [
    "df = df.dropna(subset=['average_rating'])"
   ]
  },
  {
   "cell_type": "markdown",
   "id": "448686ef-ef8c-46e2-a644-6e4f0bd37db9",
   "metadata": {},
   "source": [
    "### cross Checking to see if there are missing values in 'average_rating' after dropping missing values"
   ]
  },
  {
   "cell_type": "code",
   "execution_count": null,
   "id": "2f70bb0e-791e-419c-b868-51d2d75722da",
   "metadata": {},
   "outputs": [],
   "source": [
    "print(df['average_rating'].isnull().sum())"
   ]
  },
  {
   "cell_type": "markdown",
   "id": "38de54df-7e1b-4864-8052-12599e75d266",
   "metadata": {},
   "source": [
    "### Drop rows with empty category in the 'main_category' column"
   ]
  },
  {
   "cell_type": "markdown",
   "id": "e9a76d8f-c553-4f62-87a8-5a57a8b04511",
   "metadata": {},
   "source": [
    "I changed my mind to drop rows that are empty in the main category instead of filling them with unknown because if they are not in any category, its basically doesnt help my research in any way. so its better i dropped them"
   ]
  },
  {
   "cell_type": "code",
   "execution_count": null,
   "id": "2bfb811b-6707-4fe4-9a20-a0e465f758ae",
   "metadata": {},
   "outputs": [],
   "source": [
    "df = df.dropna(subset=['main_category'])"
   ]
  },
  {
   "cell_type": "markdown",
   "id": "c6176741-ccc6-44e1-a00c-385e3dc0f107",
   "metadata": {},
   "source": [
    "### cross Checking to see if there are missing values in the 'main_category' column after dropping empty rows"
   ]
  },
  {
   "cell_type": "code",
   "execution_count": null,
   "id": "3a4b9556-e68b-4530-9f51-a124773e954c",
   "metadata": {},
   "outputs": [],
   "source": [
    "print(df['main_category'].isnull().sum())"
   ]
  },
  {
   "cell_type": "markdown",
   "id": "fe6c295d-3896-4ac3-bc25-2a263632dacd",
   "metadata": {},
   "source": [
    "### Fill in missing rating numbers with 0"
   ]
  },
  {
   "cell_type": "code",
   "execution_count": null,
   "id": "e5499b5a-f798-4e43-99b8-48e3e02863c1",
   "metadata": {},
   "outputs": [],
   "source": [
    "df = df.copy()"
   ]
  },
  {
   "cell_type": "code",
   "execution_count": null,
   "id": "b3e07a00-626b-4d97-8503-2216288b0ea4",
   "metadata": {},
   "outputs": [],
   "source": [
    "df['rating_number'] = df['rating_number'].fillna(0)"
   ]
  },
  {
   "cell_type": "markdown",
   "id": "9df9cf95-06e4-41d3-8b2f-813e500488f9",
   "metadata": {},
   "source": [
    "### cross Checking to see if there are missing values in 'rating-number' after replacing missing values with 0"
   ]
  },
  {
   "cell_type": "code",
   "execution_count": null,
   "id": "938032f3-4d7b-45db-8139-c368e962566c",
   "metadata": {},
   "outputs": [],
   "source": [
    "print(df['rating_number'].isnull().sum())"
   ]
  },
  {
   "cell_type": "markdown",
   "id": "582d97c9-6b2a-48e2-8e92-020ab211d5d1",
   "metadata": {},
   "source": [
    "### Drop columns 'bought_together','subtitle','author', 'price', 'store'. They all have missen data and not useful for my analysis"
   ]
  },
  {
   "cell_type": "code",
   "execution_count": null,
   "id": "0df79c88-10f1-4bd5-b9d1-37b09d2b917c",
   "metadata": {},
   "outputs": [],
   "source": [
    "df = df.drop(columns = {'bought_together','subtitle','author', 'price', 'store'}) \n",
    "\n",
    "df.head(1)"
   ]
  },
  {
   "cell_type": "markdown",
   "id": "bdbe008b-4f93-4715-9bf0-23c019327a42",
   "metadata": {},
   "source": [
    "### cross checking the data to see if it is clean"
   ]
  },
  {
   "cell_type": "code",
   "execution_count": null,
   "id": "5a10a8fc-d261-4752-951f-06bcefd63259",
   "metadata": {
    "scrolled": true
   },
   "outputs": [],
   "source": [
    "df.isnull().sum()"
   ]
  },
  {
   "cell_type": "code",
   "execution_count": null,
   "id": "b3620201-5c18-4a25-8d1f-cd24c0bf3411",
   "metadata": {},
   "outputs": [],
   "source": [
    "# Filter categories with a total number of ratings greater than a threshold\n",
    "filtered_data = df.groupby('main_category').filter(lambda x: x['rating_number'].sum() > 10)"
   ]
  },
  {
   "cell_type": "code",
   "execution_count": null,
   "id": "73834262-7e93-43b9-96dd-7a19939889a6",
   "metadata": {},
   "outputs": [],
   "source": [
    "main_category_counts = df['main_category'].value_counts()\n",
    "main_category_counts.head()"
   ]
  },
  {
   "cell_type": "markdown",
   "id": "97963cae-9e1f-4a54-9138-317cf5ca16a8",
   "metadata": {},
   "source": [
    "### count the number of main category"
   ]
  },
  {
   "cell_type": "markdown",
   "id": "9731d514-f3c2-473d-b0f9-74ff7ffe7958",
   "metadata": {},
   "source": [
    "### check out content in each category"
   ]
  },
  {
   "cell_type": "code",
   "execution_count": null,
   "id": "3878ff42-ab13-4960-85de-c36bd3b61d60",
   "metadata": {},
   "outputs": [],
   "source": [
    "df['main_category']"
   ]
  },
  {
   "cell_type": "markdown",
   "id": "27aa9695-347e-46b1-a8e5-b2361e2d98f2",
   "metadata": {},
   "source": [
    "Rating number is the total number of ratings that a product has received while Average Rating is the the mean score that customers have given to a product, calculated from individual customer reviews. Usually, it's on a scale of 0 to 5 stars."
   ]
  },
  {
   "cell_type": "markdown",
   "id": "f03b7afb-aaf4-4590-ae7f-16c4ed73d597",
   "metadata": {},
   "source": [
    "### laying foundation and drawing the bar chart"
   ]
  },
  {
   "cell_type": "code",
   "execution_count": null,
   "id": "85c8a618-3615-4af8-90a4-1b30b5c37e74",
   "metadata": {},
   "outputs": [],
   "source": [
    "category_ratings = filtered_data.groupby('main_category')['rating_number'].size().sort_values(ascending=False).reset_index()\n",
    "\n",
    "# Plotting with Plotly\n",
    "fig = px.bar(category_ratings, x='main_category', y='rating_number', \n",
    "             title=\"Total Ratings by Category\",\n",
    "             labels={'main_category': 'Category', 'rating_number': 'Total Ratings'},\n",
    "             color='rating_number',\n",
    "             color_continuous_scale='Blues')\n",
    "\n",
    "fig.update_layout(xaxis={'categoryorder': 'total descending'}, xaxis_tickangle=-45, font=dict(\n",
    "        family='Roboto, sans-serif', size=14))\n",
    "\n",
    "fig.show()"
   ]
  },
  {
   "cell_type": "markdown",
   "id": "123c4419-26c0-4e89-859e-f55811d1199d",
   "metadata": {},
   "source": [
    "The above bar chart shows that \"Appstore for Android\" category has more rating numbers than all the the other categories. We can also infer that more products were sold by the category \"Appstore for Android\" than any other category"
   ]
  },
  {
   "cell_type": "markdown",
   "id": "0ccef9e5-18ce-48ce-b642-d8eedb57a20b",
   "metadata": {},
   "source": [
    "### setting up and drawing the Box plot "
   ]
  },
  {
   "cell_type": "code",
   "execution_count": null,
   "id": "ece214e1-1ca9-472d-a119-8d3648d7e5d7",
   "metadata": {},
   "outputs": [],
   "source": [
    "# Amazon inspired colors\n",
    "custom_colors = {\n",
    "    \"Appstore for Android\": \"#FF9900\",\n",
    "    \"Software\": \"#146EB4\", \n",
    "    \"Gift Cards\": \"#404040\", \n",
    "    \"Computers\": \"#9EC8E3\",\n",
    "    \"Home Audio & Theatre\": \"#232F3E\",\n",
    "    \"Books\": \"#00A368\",  # Fixed the typo here\n",
    "    \"AMAZON FASHION\": \"#CCCCCC\",\n",
    "    \"Toys & Games\": \"#6A1B9A\"\n",
    "}\n",
    "\n",
    "# Box plot setup for Average Rating\n",
    "fig1 = px.box(\n",
    "    filtered_data, \n",
    "    x=\"main_category\", \n",
    "    y=\"average_rating\", \n",
    "    title=\"Category by Average Rating\",\n",
    "    labels={\"main_category\": \"Category\", \"average_rating\": \"Average Rating\"},\n",
    "    color=\"main_category\",\n",
    "    color_discrete_map=custom_colors  # Apply custom colors\n",
    ")\n",
    "\n",
    "# Box plot setup for Rating Number\n",
    "fig2 = px.box(\n",
    "    filtered_data, \n",
    "    x=\"main_category\", \n",
    "    y=\"rating_number\", \n",
    "    title=\"Category by Rating Number\",\n",
    "    labels={\"main_category\": \"Category\", \"rating_number\": \"Rating Number\"},\n",
    "    color=\"main_category\",\n",
    "    color_discrete_map=custom_colors  # Apply custom colors\n",
    ")\n",
    "\n",
    "fig2.update_yaxes(type=\"log\", title=\"Rating Number (Log Scale)\")\n",
    "\n",
    "fig1.update_layout(\n",
    "    font=dict(\n",
    "        family='Roboto, sans-serif',\n",
    "        size=14\n",
    "    )\n",
    ")\n",
    "\n",
    "fig2.update_layout(\n",
    "    font=dict(\n",
    "        family='Roboto, sans-serif',\n",
    "        size=14\n",
    "    )\n",
    ")\n",
    "\n",
    "# plots the graph\n",
    "fig1.show()\n",
    "fig2.show()"
   ]
  },
  {
   "cell_type": "markdown",
   "id": "8301c476-b647-488a-bb60-bc9b35767575",
   "metadata": {},
   "source": [
    "fig1 above shows that gift cards have the highest average rating with a median rating of 4.45 and its lowest rating at 4.1 while fig  shows that categories in the \"Appstore for Android\" has the highest rating number and customers   "
   ]
  },
  {
   "cell_type": "markdown",
   "id": "64e2b151-69c5-42e1-b805-401fee9b6ecf",
   "metadata": {},
   "source": [
    "### Grouped histogram showing Count of Category by Average Rating and Count of Category by Rating Number"
   ]
  },
  {
   "cell_type": "markdown",
   "id": "62fa809c-15a6-4d6f-89b9-8539d3fb074e",
   "metadata": {},
   "source": [
    "Grouping average rating into low, medium and high order"
   ]
  },
  {
   "cell_type": "code",
   "execution_count": null,
   "id": "c9b5feff-94c9-4c93-98ce-d56f6a0c2f30",
   "metadata": {},
   "outputs": [],
   "source": [
    "# bins and labels for the average rating\n",
    "bins = [0, 2, 4, 5]\n",
    "labels = ['Low', 'Medium', 'High']\n",
    "filtered_data['rating_order'] = pd.cut(filtered_data['average_rating'], bins=bins, labels=labels, include_lowest=True)"
   ]
  },
  {
   "cell_type": "markdown",
   "id": "70e88e7b-7dd3-4877-bc7d-822334be87be",
   "metadata": {},
   "source": [
    "Grouping rating number into few, moderate, high and very high"
   ]
  },
  {
   "cell_type": "code",
   "execution_count": null,
   "id": "92d146c4-7b93-469c-9c97-bc7d35f1b451",
   "metadata": {},
   "outputs": [],
   "source": [
    "# bins and labels for rating number\n",
    "bins = [0, 10, 50, 100, df['rating_number'].max()]\n",
    "labels = ['Few', 'Moderate', 'High', 'Very High']  # grouped based on range\n",
    "filtered_data['rating_number_group'] = pd.cut(filtered_data['rating_number'], bins=bins, labels=labels, include_lowest=True)"
   ]
  },
  {
   "cell_type": "markdown",
   "id": "e4f8e276-936f-4eae-9d03-38c7fd1782f7",
   "metadata": {},
   "source": [
    "Give each label order colors and draw the histogram"
   ]
  },
  {
   "cell_type": "code",
   "execution_count": null,
   "id": "32e0e119-7210-4a29-8b95-083ff444291b",
   "metadata": {},
   "outputs": [],
   "source": [
    "# Amazon inspired colors\n",
    "amazon_colors = {\n",
    "    'Low': '#FF9900',       # Orange\n",
    "    'Medium': '#146EB4',    # Blue\n",
    "    'High': '#00A368',      # Green\n",
    "    'Few': '#FF9900',       # Orange\n",
    "    'Moderate': '#146EB4',    # Blue\n",
    "    'High (Group)': '#00A368',  # Green\n",
    "    'Very High': '#404040',  # Dark Gray\n",
    "}\n",
    "\n",
    "# Histogram graph setup for average rating\n",
    "fig3 = px.histogram(filtered_data, x=\"main_category\", title=\"Count of Category by Average Rating\",\n",
    "                    labels={\"main_category\": \"Category\", \"count\": \"Number of Ratings\"},\n",
    "                    color=\"rating_order\", barmode='group',\n",
    "                    color_discrete_map=amazon_colors)  # add custom colors from above\n",
    "\n",
    "# histogram graph setup for rating number\n",
    "fig4 = px.histogram(filtered_data, x=\"main_category\", title=\"Count of Category by Rating Number\",\n",
    "                    labels={\"main_category\": \"Category\", \"count\": \"Number of Ratings\"},\n",
    "                    color=\"rating_number_group\", barmode='group',\n",
    "                    color_discrete_map=amazon_colors)  # add custom colors from above\n",
    "\n",
    "# title position\n",
    "fig3.update_traces(textposition='outside', textfont_size=12)\n",
    "fig4.update_traces(textposition='outside', textfont_size=12)\n",
    "\n",
    "# layout and color for display\n",
    "fig3.update_layout(\n",
    "                  font=dict(\n",
    "        family='Roboto, sans-serif',\n",
    "        size=14\n",
    "    ))\n",
    "fig4.update_layout(\n",
    "                  font=dict(\n",
    "        family='Roboto, sans-serif',\n",
    "        size=14\n",
    "   ))\n",
    "\n",
    "# plots graph\n",
    "fig3.show()\n",
    "fig4.show()"
   ]
  },
  {
   "cell_type": "markdown",
   "id": "321b5569-ff8f-4fb5-90d6-7b93357ee497",
   "metadata": {},
   "source": [
    "The above histogram graph in Fig3 shows that \"Appstore for Android\" has a higher average rating count than other categories. It has 56.891k count of medium-rating orders, 8438 counts of high-rating orders, and 3325 counts of low-rating orders. \n",
    "\n",
    "In Fig4, it shows that 'Appstore for Android' is more popular than other categories on the Amazon platform and also has the most low ratings with a rating of 29.355k. it also has more number of reviews than other category. "
   ]
  },
  {
   "cell_type": "markdown",
   "id": "ddd55833-2881-4590-82d2-9a03e7cae5b2",
   "metadata": {},
   "source": [
    "### Drawing a stacked bar"
   ]
  },
  {
   "cell_type": "markdown",
   "id": "e3b30b7c-62cf-444a-bd50-cebf9a662f76",
   "metadata": {},
   "source": [
    "Counting the number of times each category occurs"
   ]
  },
  {
   "cell_type": "code",
   "execution_count": null,
   "id": "f185ddf3-f226-44f0-bf9e-396f0469d154",
   "metadata": {},
   "outputs": [],
   "source": [
    "main_category_counts = filtered_data['main_category'].value_counts()\n",
    "main_category_counts.head()"
   ]
  },
  {
   "cell_type": "markdown",
   "id": "7351f1a7-b4f6-4638-b0fb-0dd1d613274e",
   "metadata": {},
   "source": [
    "Group the data by 'main_category' and 'rating_order'. Create a table that shows the count of rating for each category"
   ]
  },
  {
   "cell_type": "code",
   "execution_count": null,
   "id": "b43746af-30f2-46ae-8a49-ad5502a9634b",
   "metadata": {},
   "outputs": [],
   "source": [
    "main_category_counts = filtered_data.groupby(['main_category', 'rating_order'], observed=True).size().unstack(fill_value=0)\n",
    "main_category_counts"
   ]
  },
  {
   "cell_type": "markdown",
   "id": "03f2b4dd-4412-4c7e-8eb0-68e6563dd227",
   "metadata": {},
   "source": [
    "Reorders the main_category_counts according to the rating_order"
   ]
  },
  {
   "cell_type": "code",
   "execution_count": null,
   "id": "768c5ff5-b1f5-470a-9ab7-6658ffb38c1e",
   "metadata": {},
   "outputs": [],
   "source": [
    "rating_order = ['Low', 'Medium', 'High']\n",
    "main_category_counts = main_category_counts[rating_order]\n",
    "main_category_counts.head()"
   ]
  },
  {
   "cell_type": "code",
   "execution_count": null,
   "id": "e9a9f3ed-6973-4a46-ae5e-6a857bd6dfa5",
   "metadata": {},
   "outputs": [],
   "source": [
    "main_category_counts['Total']=main_category_counts.sum(axis=1)\n",
    "main_category_counts_sorted=main_category_counts.sort_values(by='Total', ascending=False)\n",
    "main_category_counts_sorted_top10=main_category_counts_sorted.head()\n",
    "main_category_counts_sorted_top10.head()"
   ]
  },
  {
   "cell_type": "code",
   "execution_count": null,
   "id": "08bc4cb6-f1af-4d45-93cd-d17b9f66e9bd",
   "metadata": {},
   "outputs": [],
   "source": [
    "category_names=main_category_counts_sorted_top10.index\n",
    "total_rating=main_category_counts_sorted_top10['Total']"
   ]
  },
  {
   "cell_type": "markdown",
   "id": "a1974925-66a8-47d5-8bcd-a7b6ca367896",
   "metadata": {},
   "source": [
    "### Information contained in hover. When you hover over the different rating level, it makes you see information contained in the bar"
   ]
  },
  {
   "cell_type": "code",
   "execution_count": null,
   "id": "1d17b964-dfbb-4d25-b9ac-a5ffb4242f4f",
   "metadata": {},
   "outputs": [],
   "source": [
    "# add colors to the orders \n",
    "rating_info = [\n",
    "    ('Low', '#00A368', 'Low'),   # Green\n",
    "    ('Medium', '#FF9900', 'Medium'),  # orange\n",
    "    ('High', '#146EB4', 'High')  # Blue\n",
    "]\n",
    "\n",
    "traces=[]\n",
    "\n",
    "# hover information\n",
    "for rating_name, color, hover_label in rating_info:\n",
    "    if rating_name=='High':\n",
    "        hovertemplate=f\"<b>Total Medal:</b>\" + total_rating.astype(str) + f\"<br><b>{hover_label}:<b/> %{{y}}<extra></extra>\"\n",
    "        opacity=1\n",
    "        line=dict(\n",
    "        color='black',\n",
    "        width=1.5\n",
    "        )\n",
    "    else:\n",
    "        hovertemplate= f\"<br><b>{hover_label}:<b/> %{{y}}<extra></extra>\"\n",
    "        opacity=1\n",
    "        line=dict()\n",
    "\n",
    "    traces.append(go.Bar(\n",
    "        x=main_category_counts_sorted_top10.index,\n",
    "        y=main_category_counts_sorted_top10[rating_name],\n",
    "        name=rating_name.split()[0],\n",
    "        hovertemplate=hovertemplate,\n",
    "        marker=dict(\n",
    "            color=color,\n",
    "            opacity=opacity,\n",
    "            line=line\n",
    "            )\n",
    "    )\n",
    ")\n",
    "        "
   ]
  },
  {
   "cell_type": "code",
   "execution_count": null,
   "id": "e32e75af-19bb-4ca8-8a00-81ce5fcc62cc",
   "metadata": {},
   "outputs": [],
   "source": [
    "stacked_bar_fig5=go.Figure(data=traces)\n",
    "\n",
    "# bar chart information\n",
    "stacked_bar_fig5.update_layout(\n",
    "    barmode='stack',\n",
    "    title=\"User Engagement by Category\",\n",
    "    xaxis_title=\"Category\",\n",
    "    yaxis_title=\"Number of Ratings\",\n",
    "    xaxis_tickangle=-45,\n",
    "    hovermode=\"x unified\",\n",
    "    hoverlabel=dict(\n",
    "        bgcolor=\"white\",\n",
    "        font_size=12,\n",
    "        font_family=\"Roboto\"\n",
    "    ), \n",
    "    font=dict(\n",
    "        family='Roboto, sans-serif',\n",
    "        size=14)\n",
    ")"
   ]
  },
  {
   "cell_type": "markdown",
   "id": "d1d197a7-0a44-497f-81c5-09cc6491f52e",
   "metadata": {},
   "source": [
    "The above stacked bar in fig5 shows the number of ratings in each order high, medium and low for each category "
   ]
  },
  {
   "cell_type": "markdown",
   "id": "42b29d46-0e17-4a07-97e7-a329ea6e5a17",
   "metadata": {},
   "source": [
    "### Draw the heatmap for the ratings by category"
   ]
  },
  {
   "cell_type": "code",
   "execution_count": null,
   "id": "e0fcb8ee-9a05-4eca-bc64-4ae66a800759",
   "metadata": {},
   "outputs": [],
   "source": [
    "# Add Amazon-inspired colors\n",
    "amazon_colors = {\n",
    "    'Low': '#FF9900',       # Orange\n",
    "    'Medium': '#146EB4',    # Blue\n",
    "    'High': '#00A368',      # Green\n",
    "}\n",
    "\n",
    "discrete_color_scale = [amazon_colors['Low'], amazon_colors['Medium'], amazon_colors['High']]\n",
    "\n",
    "\n",
    "# Group the data\n",
    "heatmap_data = filtered_data.groupby('main_category').agg(\n",
    "    avg_rating=('average_rating', 'mean'),\n",
    "    num_ratings=('rating_number', 'sum')\n",
    ").reset_index()\n",
    "\n",
    "# Group average ratings into orders\n",
    "bins = [0, 2, 4, 5]\n",
    "labels = ['Low', 'Medium', 'High']\n",
    "heatmap_data['rating_order'] = pd.cut(heatmap_data['avg_rating'], \n",
    "                                      bins=bins, labels=labels, \n",
    "                                      include_lowest=True)\n",
    "\n",
    "# Pivot data for the heatmap\n",
    "heatmap_matrix = heatmap_data.pivot_table(\n",
    "    index='main_category', \n",
    "    columns='rating_order', \n",
    "    values='num_ratings', \n",
    "    fill_value=0,\n",
    "    observed=False \n",
    ")\n",
    "\n",
    "# Round values in the heatmap matrix\n",
    "heatmap_matrix = heatmap_matrix.round(2)\n",
    "\n",
    "# Styling and layout\n",
    "fig6 = px.imshow(\n",
    "    heatmap_matrix,\n",
    "    labels=dict(x=\"Average Rating\", y=\"Category\", color=\"Number of Ratings\"),\n",
    "    title=\"Heatmap of Ratings by Category\",\n",
    "    color_continuous_scale=discrete_color_scale,\n",
    "    text_auto=True\n",
    ")\n",
    "\n",
    "fig6.update_traces(\n",
    "    texttemplate='%{z}',  # Display rounded values\n",
    "    textfont_size=14,  # Increase font size inside cells\n",
    "    hovertemplate=\"<b>Category:</b> %{y}<br>\" +\n",
    "                  \"<b>Rating Order:</b> %{x}<br>\" +\n",
    "                  \"<b>Number of Ratings:</b> %{z}<extra></extra>\"\n",
    ")\n",
    "\n",
    "fig6.update_layout(\n",
    "    xaxis_title=\"Average Rating\",\n",
    "    yaxis_title=\"Main Category\",\n",
    "    font=dict(\n",
    "        family='Roboto, sans-serif',\n",
    "        size=16  # Global font size\n",
    "    ),\n",
    "    height=800,  # Increase height\n",
    "    width=1200  # Increase width\n",
    ")\n",
    "\n",
    "fig6.show()\n"
   ]
  },
  {
   "cell_type": "markdown",
   "id": "f70d4e92-d6a3-49d0-ae03-e8ac9a9d8f07",
   "metadata": {},
   "source": [
    "The above heatmap shows that 'appstore for android' is leading in the medium range which indicate that the category is popular but not an highly rated product while the category such as 'gift cards' shows that they are high rated products  \n"
   ]
  },
  {
   "cell_type": "code",
   "execution_count": null,
   "id": "caba6cfa-791d-4c44-b478-1dc2170f6f3f",
   "metadata": {},
   "outputs": [],
   "source": [
    "amazon_colors = {\n",
    "    'Low': '#FF9900',       # Orange\n",
    "    'Medium': '#146EB4',    # Blue\n",
    "    'High': '#00A368',      # Green\n",
    "    'Few': '#FF9900',       # Orange\n",
    "    'Moderate': '#146EB4',    # Blue\n",
    "    'High (Group)': '#00A368',  # Green\n",
    "    'Very High': '#404040',  # Dark Gray\n",
    "}\n",
    "\n",
    "# Grouped the data for each plot\n",
    "category_ratings = filtered_data.groupby(['main_category', 'rating_order'], observed=False).size().reset_index(name='count')\n",
    "category_rating_numbers = filtered_data.groupby(['main_category', 'rating_number_group'], observed=False).size().reset_index(name='count')\n",
    "\n",
    "# distribution by rating order\n",
    "fig7 = px.bar(\n",
    "    category_ratings, \n",
    "    x=\"main_category\", \n",
    "    y=\"count\", \n",
    "    title=\"Count of Category by Average Rating\",\n",
    "    labels={\"main_category\": \"Category\", \"count\": \"Number of Ratings\"},\n",
    "    color=\"rating_order\", \n",
    "    barmode='group', \n",
    "    text='count',\n",
    "    color_discrete_map=amazon_colors  # add the colors\n",
    ")\n",
    "\n",
    "# distribution by rating number\n",
    "fig8 = px.bar(\n",
    "    category_rating_numbers, \n",
    "    x=\"main_category\", \n",
    "    y=\"count\", \n",
    "    title=\"Count of Category by Rating Number\",\n",
    "    labels={\"main_category\": \"Category\", \"count\": \"Number of Ratings\"},\n",
    "    color=\"rating_number_group\", \n",
    "    barmode='group', \n",
    "    text='count',\n",
    "    color_discrete_map=amazon_colors  # add the colors\n",
    ")\n",
    "\n",
    "# Position the text labels\n",
    "fig7.update_traces(textposition='outside', textfont_size=12)\n",
    "fig8.update_traces(textposition='outside', textfont_size=12)\n",
    "\n",
    "# layout and color for display\n",
    "fig7.update_layout( \n",
    "                  font=dict(\n",
    "        family='Roboto, sans-serif',\n",
    "        size=14\n",
    "    ))\n",
    "fig8.update_layout(\n",
    "                  font=dict(\n",
    "        family='Roboto, sans-serif',\n",
    "        size=14\n",
    "   ))\n",
    "\n",
    "# show the graph\n",
    "fig7.show()\n",
    "fig8.show()"
   ]
  },
  {
   "cell_type": "markdown",
   "id": "db262e55-55b1-4021-b824-23de5e6c942f",
   "metadata": {},
   "source": [
    "### Project Milestone 3 Reflection\n",
    "In Milestone 3, I created a new Jupyter Notebook and added more graphs to better explain my data. \n",
    "Since I’m working with Amazon’s data, I incorporated their brand colors throughout the project: Orange (#FF9900), Blue (#146EB4), Green (#00A368), and Dark Gray (#404040). However, since Amazon’s fonts are not publicly available, I used Roboto as an alternative. I set the height of all the graphs to 500 but it made the file too large to be uploaded on github. After removing the height, the file was still big so I saw online that I can save my file without running the output. I hope that works.\n",
    "\n",
    "I’m still deciding whether to include all the graphs in the final project or only select a few."
   ]
  },
  {
   "cell_type": "code",
   "execution_count": null,
   "id": "8191a8cf-eb3e-4eff-b523-6cc3cb24ca55",
   "metadata": {},
   "outputs": [],
   "source": [
    "fig1.write_html(\"fig1.html\")"
   ]
  },
  {
   "cell_type": "code",
   "execution_count": null,
   "id": "08384094-182d-4f72-87b7-1534068e9527",
   "metadata": {},
   "outputs": [],
   "source": [
    "fig2.write_html(\"fig2.html\")"
   ]
  },
  {
   "cell_type": "code",
   "execution_count": null,
   "id": "3046d01b-e2b1-42da-94c1-1bce84859fe4",
   "metadata": {},
   "outputs": [],
   "source": [
    "fig6.write_html(\"fig6.html\")"
   ]
  },
  {
   "cell_type": "code",
   "execution_count": null,
   "id": "ac0e62c5-b3d8-4b03-b796-a2207a62b222",
   "metadata": {},
   "outputs": [],
   "source": [
    "fig7.write_html(\"fig7.html\")"
   ]
  },
  {
   "cell_type": "code",
   "execution_count": null,
   "id": "a38c6157-38ae-46c8-88c7-b4e081652e8e",
   "metadata": {},
   "outputs": [],
   "source": [
    "fig8.write_html(\"fig8.html\")"
   ]
  }
 ],
 "metadata": {
  "kernelspec": {
   "display_name": "Python 3 (ipykernel)",
   "language": "python",
   "name": "python3"
  },
  "language_info": {
   "codemirror_mode": {
    "name": "ipython",
    "version": 3
   },
   "file_extension": ".py",
   "mimetype": "text/x-python",
   "name": "python",
   "nbconvert_exporter": "python",
   "pygments_lexer": "ipython3",
   "version": "3.12.4"
  }
 },
 "nbformat": 4,
 "nbformat_minor": 5
}
